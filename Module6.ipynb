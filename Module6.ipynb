{
  "cells": [
    {
      "cell_type": "markdown",
      "metadata": {
        "id": "view-in-github",
        "colab_type": "text"
      },
      "source": [
        "<a href=\"https://colab.research.google.com/github/MarshallPotts/CSE450-Machine-Learning/blob/main/Module6.ipynb\" target=\"_parent\"><img src=\"https://colab.research.google.com/assets/colab-badge.svg\" alt=\"Open In Colab\"/></a>"
      ]
    },
    {
      "cell_type": "code",
      "execution_count": 1,
      "metadata": {
        "id": "aUB4xrFdLkr8"
      },
      "outputs": [],
      "source": [
        "restart = True\n",
        "epoch_to_pickup = 0"
      ]
    },
    {
      "cell_type": "code",
      "execution_count": 2,
      "metadata": {
        "id": "XtiXE04uGB_U"
      },
      "outputs": [],
      "source": [
        "# Import libraries\n",
        "\n",
        "from tensorflow.keras.layers import StringLookup\n",
        "import numpy as np\n",
        "import os\n",
        "import time\n",
        "import random\n",
        "import contextlib\n",
        "import io\n",
        "import re\n",
        "import string\n",
        "import gc  # Import the garbage collector module\n",
        "import re\n",
        "\n",
        "import tensorflow as tf\n",
        "from tensorflow.keras import Sequential\n",
        "from tensorflow.keras.layers import Dense, Embedding, GlobalAveragePooling1D\n",
        "from tensorflow.keras.layers import TextVectorization"
      ]
    },
    {
      "cell_type": "code",
      "execution_count": 3,
      "metadata": {
        "colab": {
          "base_uri": "https://localhost:8080/"
        },
        "id": "VUgiww4oQ75T",
        "outputId": "115f2afa-c491-4a1d-8a79-160b21dbe14d"
      },
      "outputs": [
        {
          "output_type": "stream",
          "name": "stdout",
          "text": [
            "Num GPUs Available:  1\n"
          ]
        }
      ],
      "source": [
        "print(\"Num GPUs Available: \", len(tf.config.list_physical_devices('GPU')))"
      ]
    },
    {
      "cell_type": "code",
      "execution_count": 4,
      "metadata": {
        "id": "irakMtGnaImf"
      },
      "outputs": [],
      "source": [
        "path = ''"
      ]
    },
    {
      "cell_type": "code",
      "execution_count": 5,
      "metadata": {
        "id": "nDl6_okDOUyY"
      },
      "outputs": [],
      "source": [
        "# from google.colab import drive\n",
        "# drive.mount('/content/drive')\n",
        "# path = '/content/drive/My Drive/M6_Fall2023e/'"
      ]
    },
    {
      "cell_type": "markdown",
      "metadata": {
        "id": "qv4r-dKnSRKz"
      },
      "source": [
        "## Functions for downloading text\n"
      ]
    },
    {
      "cell_type": "code",
      "source": [
        "def replaceSpeakerNames(text):\n",
        "    \"\"\"\n",
        "    Replaces speaker names\n",
        "    \"\"\"\n",
        "   # speaker_names = [\"KIRK:\", \"SPOCK:\", \"MCCOY:\", \"SCOTTY:\", \"UHURA:\", \"SULU:\", \"CHEKOV:\"]\n",
        "   # for speaker in speaker_names:\n",
        "   #     text = re.sub(re.escape(speaker), \"*CHARACTER*:\", text)\n",
        "    text = re.sub(\"Desaille\", \"Desalle\", text, re.IGNORECASE)\n",
        "    return text"
      ],
      "metadata": {
        "id": "cJ2x6RMk3Dkt"
      },
      "execution_count": 6,
      "outputs": []
    },
    {
      "cell_type": "code",
      "execution_count": 7,
      "metadata": {
        "id": "xzLUaBa2Xmnb"
      },
      "outputs": [],
      "source": [
        "def preprocess_text(text):\n",
        "\n",
        "    #remove names from dialog titles that are used too often\n",
        "    text = replaceSpeakerNames(text)\n",
        "\n",
        "\n",
        "    # Remove carriage returns\n",
        "    text = text.replace(\"\\r\", \"\")\n",
        "\n",
        "    # fix quotes\n",
        "    text = text.replace(\"“\", \"\\\"\")\n",
        "    text = text.replace(\"”\", \"\\\"\")\n",
        "\n",
        "    # Replace any capital letter at the start of a word with ^ followed by the lowercase letter\n",
        "    text = re.sub(r\"(?<![a-zA-Z])([A-Z])\", lambda match: f\"^{match.group(0).lower()}\", text)\n",
        "\n",
        "    # Replace all other capital letters with lowercase\n",
        "    text = re.sub(r\"([A-Z])\", lambda match: f\"{match.group(0).lower()}\", text)\n",
        "\n",
        "    # Remove duplicate whitespace\n",
        "    text = re.sub(r\"\\s+\", \" \", text)\n",
        "    text = re.sub(r\"\\n+\", \"\\n\", text)\n",
        "    text = re.sub(r\"\\t+\", \"\\t\", text)\n",
        "\n",
        "    # Replace whitespace characters with special words\n",
        "    text = re.sub(r\"(\\t)\", r\" zztabzz \", text)\n",
        "    text = re.sub(r\"(\\n)\", r\" zznewlinezz \", text)\n",
        "    text = re.sub(r\"(\\s)\", r\" zzspacezz \", text)\n",
        "\n",
        "    # Split before and after punctuation\n",
        "    for punctuation in string.punctuation:\n",
        "        text = text.replace(punctuation, f\" {punctuation} \")\n",
        "\n",
        "    return text"
      ]
    },
    {
      "cell_type": "code",
      "execution_count": 8,
      "metadata": {
        "id": "nFKehxVF9AxD"
      },
      "outputs": [],
      "source": [
        "def postprocess_text(text):\n",
        "\n",
        "    # Replace special words with whitespace characters\n",
        "    text = text.replace(\"zztabzz\", \"\\t\")\n",
        "    text = text.replace(\"zznewlinezz\", \"\\n\")\n",
        "    text = text.replace(\"zzspacezz\", \" \")\n",
        "\n",
        "    # Remake capital letters at beginning of words\n",
        "    text = re.sub(r\"\\^([a-z])\", lambda match: f\"{match.group(1).upper()}\", text)\n",
        "\n",
        "    text = text.replace(\"^\", \"\")\n",
        "\n",
        "    return text"
      ]
    },
    {
      "cell_type": "code",
      "execution_count": 9,
      "metadata": {
        "id": "Rtd9QyvUWqzi"
      },
      "outputs": [],
      "source": [
        "# def getMyText():\n",
        "#   path_to_file = tf.keras.utils.get_file('austen.txt', 'https://raw.githubusercontent.com/byui-cse/cse450-course/master/data/austen/austen.txt')\n",
        "\n",
        "#   text = open(path_to_file, 'rb').read().decode(encoding='utf-8')\n",
        "\n",
        "#   # path_to_file = tf.keras.utils.get_file('903-0.txt', 'https://www.gutenberg.org/files/903/903-0.txt')\n",
        "#   # author_text += open(path_to_file, 'rb').read().decode(encoding='utf-8')[2999:-19194]\n",
        "#   # tf.io.gfile.remove(path_to_file)\n",
        "\n",
        "#   return preprocess_text(text)\n",
        "\n",
        "import os\n",
        "import tensorflow as tf\n",
        "\n",
        "def getMyText():\n",
        "    local_path = \"./cleaned_TOS_Scripts.txt\"\n",
        "\n",
        "    try:\n",
        "        with open(local_path, 'r', encoding='utf-8') as file:\n",
        "            text = file.read()\n",
        "        return preprocess_text(text)\n",
        "\n",
        "    except Exception as e:\n",
        "        print(f\"Error reading file: {e}\")\n",
        "        return None\n",
        "\n"
      ]
    },
    {
      "cell_type": "markdown",
      "source": [
        "###View the Text"
      ],
      "metadata": {
        "id": "qprtceI71k-O"
      }
    },
    {
      "cell_type": "code",
      "source": [
        "\n",
        "text_example = getMyText()\n",
        "# Write the example text back to a new file\n",
        "with open(\"example_scripts.txt\", \"w\", encoding=\"utf-8\") as file:\n",
        "    file.write(text_example)\n",
        "    getMyText()"
      ],
      "metadata": {
        "id": "rofy7hJ1iHVm"
      },
      "execution_count": 10,
      "outputs": []
    },
    {
      "cell_type": "code",
      "source": [
        "import random\n",
        "\n",
        "def getRandomText(file_path=\"cleaned_TOS_Scripts.txt\", chunk_size=200000, verbose=False):\n",
        "    try:\n",
        "        with open(file_path, \"r\", encoding=\"utf-8\") as f:\n",
        "            text = f.read()\n",
        "\n",
        "        # Ensure text is long enough\n",
        "        if len(text) < chunk_size:\n",
        "            raise ValueError(\"Text file is too short to extract a random chunk.\")\n",
        "\n",
        "        # Pick a random starting position\n",
        "        start_idx = random.randint(0, len(text) - chunk_size)\n",
        "        text_random = text[start_idx: start_idx + chunk_size]\n",
        "\n",
        "        if verbose:\n",
        "            print(f\"Extracted a random chunk from position {start_idx}\")\n",
        "\n",
        "        return preprocess_text(text_random)\n",
        "\n",
        "    except Exception as e:\n",
        "        print(f\"Error reading file: {e}\")\n",
        "        return None\n"
      ],
      "metadata": {
        "id": "3knXkWserF7Y"
      },
      "execution_count": 11,
      "outputs": []
    },
    {
      "cell_type": "code",
      "execution_count": 12,
      "metadata": {
        "id": "vjEF0LKxhljS"
      },
      "outputs": [],
      "source": [
        "if restart:\n",
        "  vocab_text = getMyText()"
      ]
    },
    {
      "cell_type": "markdown",
      "metadata": {
        "id": "CpFvtyF_g3jY"
      },
      "source": [
        "Make vocabulary (Adapted from TensorFlow word embedding tutorial)\n",
        "\n",
        "---\n",
        "\n"
      ]
    },
    {
      "cell_type": "code",
      "execution_count": 13,
      "metadata": {
        "id": "F8E6Q6dkMEpd"
      },
      "outputs": [],
      "source": [
        "# Vocabulary size and number of words in a sequence.\n",
        "vocab_size = 8192\n",
        "sequence_length = 128"
      ]
    },
    {
      "cell_type": "code",
      "execution_count": 14,
      "metadata": {
        "id": "AWXUqLQ6g3KB"
      },
      "outputs": [],
      "source": [
        "if restart:\n",
        "  # Use the text vectorization layer to normalize, split, and map strings to\n",
        "  # integers. Note that the layer uses the custom standardization defined above.\n",
        "  # Set maximum_sequence length as all samples are not of the same length.\n",
        "  vectorize_layer = TextVectorization(\n",
        "      standardize='lower',\n",
        "      split='whitespace',\n",
        "      max_tokens=vocab_size,\n",
        "      output_mode='int',\n",
        "      #output_sequence_length=sequence_length\n",
        "      )"
      ]
    },
    {
      "cell_type": "code",
      "execution_count": 15,
      "metadata": {
        "id": "zJfr5w1bTWiJ"
      },
      "outputs": [],
      "source": [
        "if restart:\n",
        "  # Make a text-only dataset (no labels) and call adapt to build the vocabulary.\n",
        "  vectorize_layer.adapt([vocab_text])"
      ]
    },
    {
      "cell_type": "code",
      "execution_count": 16,
      "metadata": {
        "id": "PmaoiyvF1Ilm"
      },
      "outputs": [],
      "source": [
        "if restart:\n",
        "  vocabulary = vectorize_layer.get_vocabulary()"
      ]
    },
    {
      "cell_type": "markdown",
      "metadata": {
        "id": "h7ULNtM_8nYn"
      },
      "source": [
        "Save Vocabulary"
      ]
    },
    {
      "cell_type": "code",
      "execution_count": 17,
      "metadata": {
        "id": "G1hjxv447INt"
      },
      "outputs": [],
      "source": [
        "if restart:\n",
        "  with open(path + \"vocabulary.txt\", \"w\") as file:\n",
        "    for word in vocabulary:\n",
        "        file.write(word + \"\\n\")"
      ]
    },
    {
      "cell_type": "markdown",
      "metadata": {
        "id": "h7qn5MjC8p0_"
      },
      "source": [
        "Load Saved Vocabulary"
      ]
    },
    {
      "cell_type": "code",
      "execution_count": 18,
      "metadata": {
        "id": "TLbSoqUP8Pxu"
      },
      "outputs": [],
      "source": [
        "if restart == False:\n",
        "  with open(path + \"vocabulary.txt\", \"r\") as file:\n",
        "      vocabulary = [word.strip() for word in file.readlines()]\n",
        "      vocabulary = vocabulary\n",
        "\n",
        "  vectorize_layer = TextVectorization(\n",
        "      vocabulary=vocabulary,\n",
        "      standardize='lower',\n",
        "      split='whitespace',\n",
        "      max_tokens=vocab_size,\n",
        "      output_mode='int',\n",
        "      #output_sequence_length=sequence_length\n",
        "      )"
      ]
    },
    {
      "cell_type": "code",
      "execution_count": 19,
      "metadata": {
        "colab": {
          "base_uri": "https://localhost:8080/"
        },
        "id": "FidGlurb1iD3",
        "outputId": "3a7f18d4-9265-420b-e394-0e88b698b081"
      },
      "outputs": [
        {
          "output_type": "stream",
          "name": "stdout",
          "text": [
            "['', '[UNK]', np.str_('zzspacezz'), np.str_('^'), np.str_('.'), np.str_(':'), np.str_(','), np.str_('the'), np.str_(\"'\"), np.str_('you'), np.str_('kirk'), np.str_('to'), np.str_('i'), np.str_('a'), np.str_('?'), np.str_('spock'), np.str_('of'), np.str_('it'), np.str_('and'), np.str_('s')]\n",
            "[np.str_('medication'), np.str_('mediaeval'), np.str_('meddling'), np.str_('mechanized'), np.str_('mechanization'), np.str_('mechanics'), np.str_('measuring'), np.str_('meandering'), np.str_('mcgiver'), np.str_('maze'), np.str_('mature'), np.str_('mating'), np.str_('materialization'), np.str_('mated'), np.str_('masked'), np.str_('martini'), np.str_('marshals'), np.str_('marshall'), np.str_('mars'), np.str_('marks')]\n"
          ]
        }
      ],
      "source": [
        "print(vocabulary[:20])\n",
        "print(vocabulary[-20:])"
      ]
    },
    {
      "cell_type": "markdown",
      "metadata": {
        "id": "LovypAGk91Yp"
      },
      "source": [
        "Turn text into a dataset"
      ]
    },
    {
      "cell_type": "code",
      "execution_count": 20,
      "metadata": {
        "id": "Mnp0huUX93Wi"
      },
      "outputs": [],
      "source": [
        "# This function will generate our sequence pairs:\n",
        "def split_input_target(sequence):\n",
        "    input_ids = sequence[:-1]\n",
        "    target_ids = sequence[1:]\n",
        "    return input_ids, target_ids\n",
        "\n",
        "# This function will create the dataset\n",
        "def text_to_dataset(text):\n",
        "  all_ids = vectorize_layer(text)\n",
        "  ids_dataset = tf.data.Dataset.from_tensor_slices(all_ids)\n",
        "  del all_ids\n",
        "  sequences = ids_dataset.batch(sequence_length+1, drop_remainder=True)\n",
        "  del ids_dataset\n",
        "\n",
        "  # Call the function for every sequence in our list to create a new dataset\n",
        "  # of input->target pairs\n",
        "  dataset = sequences.map(split_input_target)\n",
        "  del sequences\n",
        "\n",
        "  # shuffle\n",
        "\n",
        "\n",
        "  return dataset"
      ]
    },
    {
      "cell_type": "markdown",
      "metadata": {
        "id": "afRybxef_QHi"
      },
      "source": [
        "Test on vocab text"
      ]
    },
    {
      "cell_type": "code",
      "execution_count": 21,
      "metadata": {
        "id": "0tBa6ttN_Ufz"
      },
      "outputs": [],
      "source": [
        "if restart:\n",
        "  vocab_ds = text_to_dataset(vocab_text)"
      ]
    },
    {
      "cell_type": "code",
      "execution_count": 22,
      "metadata": {
        "id": "vq191mRgWv2w"
      },
      "outputs": [],
      "source": [
        "def text_from_ids(ids):\n",
        "  text = ''.join([vocabulary[index] for index in ids])\n",
        "  return postprocess_text(text)\n",
        "\n",
        "vocabulary_adjusted = vocabulary\n",
        "vocabulary_adjusted[0] = '[UNK]'\n",
        "vocabulary_adjusted[1] = ''\n",
        "\n",
        "words_from_ids = tf.keras.layers.StringLookup(vocabulary=vocabulary_adjusted, invert=True)"
      ]
    },
    {
      "cell_type": "code",
      "execution_count": 23,
      "metadata": {
        "colab": {
          "base_uri": "https://localhost:8080/"
        },
        "id": "tDqaTHXFAEBD",
        "outputId": "91d1d917-ad71-458f-d8b8-16da04fe0113"
      },
      "outputs": [
        {
          "output_type": "stream",
          "name": "stdout",
          "text": [
            "Input: \n",
            "tf.Tensor(\n",
            "[   3    7    2    3 1668    2    3    1    2 2844    2   23    3   76\n",
            "   22    2    3   15    5    2    3  406    2    7    2 1415    4    2\n",
            "    3 1270    5    2    3   44    2 1646    6    2   54    4    2    3\n",
            "   15    5    2    3   17    2   48    8   29    2   34    2    7    2\n",
            "  377    2  103    4    2    3 1214    2  147    2   61    2   47    6\n",
            "    2    3   28    6    2 1651    2   35    2  137    4    2    3 1270\n",
            "    5    2    3   17    2  110    2   34    2  178    2    1    4    2\n",
            "    3   58    5    2    3   41    6    2   17    8   19    2  147    2\n",
            "  412    4    2    3   47    8   19    2  163    2  147    2   61    2\n",
            "   47    4], shape=(128,), dtype=int64)\n",
            "The Cage  pilot [Bridge] Spock: Check the circuit. Tyler: All operating, sir. Spock: It can't be the screen then. Definitely something out there, Captain, headed this way. Tyler: It could be these . One: No, it's something else. There's still something out there.\n",
            "tf.Tensor(\n",
            "[b'^' b'the' b'zzspacezz' b'^' b'cage' b'zzspacezz' b'^' b'' b'zzspacezz'\n",
            " b'pilot' b'zzspacezz' b'[' b'^' b'bridge' b']' b'zzspacezz' b'^' b'spock'\n",
            " b':' b'zzspacezz' b'^' b'check' b'zzspacezz' b'the' b'zzspacezz'\n",
            " b'circuit' b'.' b'zzspacezz' b'^' b'tyler' b':' b'zzspacezz' b'^' b'all'\n",
            " b'zzspacezz' b'operating' b',' b'zzspacezz' b'sir' b'.' b'zzspacezz' b'^'\n",
            " b'spock' b':' b'zzspacezz' b'^' b'it' b'zzspacezz' b'can' b\"'\" b't'\n",
            " b'zzspacezz' b'be' b'zzspacezz' b'the' b'zzspacezz' b'screen'\n",
            " b'zzspacezz' b'then' b'.' b'zzspacezz' b'^' b'definitely' b'zzspacezz'\n",
            " b'something' b'zzspacezz' b'out' b'zzspacezz' b'there' b',' b'zzspacezz'\n",
            " b'^' b'captain' b',' b'zzspacezz' b'headed' b'zzspacezz' b'this'\n",
            " b'zzspacezz' b'way' b'.' b'zzspacezz' b'^' b'tyler' b':' b'zzspacezz'\n",
            " b'^' b'it' b'zzspacezz' b'could' b'zzspacezz' b'be' b'zzspacezz' b'these'\n",
            " b'zzspacezz' b'' b'.' b'zzspacezz' b'^' b'one' b':' b'zzspacezz' b'^'\n",
            " b'no' b',' b'zzspacezz' b'it' b\"'\" b's' b'zzspacezz' b'something'\n",
            " b'zzspacezz' b'else' b'.' b'zzspacezz' b'^' b'there' b\"'\" b's'\n",
            " b'zzspacezz' b'still' b'zzspacezz' b'something' b'zzspacezz' b'out'\n",
            " b'zzspacezz' b'there' b'.'], shape=(128,), dtype=string)\n",
            "Target: \n",
            "tf.Tensor(\n",
            "[   7    2    3 1668    2    3    1    2 2844    2   23    3   76   22\n",
            "    2    3   15    5    2    3  406    2    7    2 1415    4    2    3\n",
            " 1270    5    2    3   44    2 1646    6    2   54    4    2    3   15\n",
            "    5    2    3   17    2   48    8   29    2   34    2    7    2  377\n",
            "    2  103    4    2    3 1214    2  147    2   61    2   47    6    2\n",
            "    3   28    6    2 1651    2   35    2  137    4    2    3 1270    5\n",
            "    2    3   17    2  110    2   34    2  178    2    1    4    2    3\n",
            "   58    5    2    3   41    6    2   17    8   19    2  147    2  412\n",
            "    4    2    3   47    8   19    2  163    2  147    2   61    2   47\n",
            "    4    2], shape=(128,), dtype=int64)\n",
            "the Cage  pilot [Bridge] Spock: Check the circuit. Tyler: All operating, sir. Spock: It can't be the screen then. Definitely something out there, Captain, headed this way. Tyler: It could be these . One: No, it's something else. There's still something out there. \n"
          ]
        }
      ],
      "source": [
        "if restart:\n",
        "  for input_example, target_example in vocab_ds.take(1):\n",
        "    print(\"Input: \")\n",
        "    print(input_example)\n",
        "    print(text_from_ids(input_example))\n",
        "    print(words_from_ids(input_example))\n",
        "    print(\"Target: \")\n",
        "    print(target_example)\n",
        "    print(text_from_ids(target_example))"
      ]
    },
    {
      "cell_type": "code",
      "execution_count": 24,
      "metadata": {
        "id": "Rp402vgrS54t"
      },
      "outputs": [],
      "source": [
        "BATCH_SIZE = 64\n",
        "BUFFER_SIZE = 10000\n",
        "\n",
        "def setup_dataset(dataset):\n",
        "  dataset = (\n",
        "    dataset\n",
        "    .shuffle(BUFFER_SIZE)\n",
        "    .batch(BATCH_SIZE, drop_remainder=True)\n",
        "    .prefetch(tf.data.experimental.AUTOTUNE))\n",
        "  return dataset\n"
      ]
    },
    {
      "cell_type": "code",
      "execution_count": 25,
      "metadata": {
        "id": "0LdoMfT7T8WN"
      },
      "outputs": [],
      "source": [
        "if restart:\n",
        "  vocab_ds = setup_dataset(vocab_ds)"
      ]
    },
    {
      "cell_type": "markdown",
      "metadata": {
        "id": "0VQ-KjEeZMzd"
      },
      "source": [
        "## III. Build the model\n",
        "\n",
        "Next, we'll build our model. Up until this point, you've been using the Keras symbolic, or imperative API for creating your models. Doing something like:\n",
        "\n",
        "    model = tf.keras.models.Sequentla()\n",
        "    model.add(tf.keras.layers.Dense(80, activation='relu))\n",
        "    etc...\n",
        "\n",
        "However, tensorflow has another way to build models called the Functional API, which gives us a lot more control over what happens inside the model. You can read more about [the differences and when to use each here](https://blog.tensorflow.org/2019/01/what-are-symbolic-and-imperative-apis.html).\n",
        "\n",
        "We'll use the functional API for our RNN in this example. This will involve defining our model as a custom subclass of `tf.keras.Model`.\n",
        "\n",
        "If you're not familiar with classes in python, you might want to review [this quick tutorial](https://www.w3schools.com/python/python_classes.asp), as well as [this one on class inheritance](https://www.w3schools.com/python/python_inheritance.asp).\n",
        "\n",
        "Using a functional model is important for our situation because we're not just training it to predict a single character for a single sequence, but as we make predictions with it, we need it to remember those predictions as use that memory as it makes new predictions.\n"
      ]
    },
    {
      "cell_type": "code",
      "execution_count": 26,
      "metadata": {
        "id": "Fj4uh9y-Y9mx"
      },
      "outputs": [],
      "source": [
        "# Create our custom model. Given a sequence of characters, this\n",
        "# model's job is to predict what character should come next.\n",
        "class TOStextModel(tf.keras.Model):\n",
        "\n",
        "  # This is our class constructor method, it will be executed when\n",
        "  # we first create an instance of the class\n",
        "  def __init__(self, vocab_size, embedding_dim, rnn_units):\n",
        "    super().__init__()\n",
        "\n",
        "    # Our model will have three layers:\n",
        "\n",
        "    # 1. An embedding layer that handles the encoding of our vocabulary into\n",
        "    #    a vector of values suitable for a neural network\n",
        "    self.embedding = tf.keras.layers.Embedding(vocab_size, embedding_dim)\n",
        "\n",
        "    # 2. A GRU layer that handles the \"memory\" aspects of our RNN. If you're\n",
        "    #    wondering why we use GRU instead of LSTM, and whether LSTM is better,\n",
        "    #    take a look at this article: https://datascience.stackexchange.com/questions/14581/when-to-use-gru-over-lstm\n",
        "    #    then consider trying out LSTM instead (or in addition to!)\n",
        "    #self.gru = tf.keras.layers.GRU(rnn_units, return_sequences=True, return_state=True)\n",
        "    self.lstm1 = tf.keras.layers.LSTM(rnn_units, return_sequences=True, return_state=True)\n",
        "    self.lstm2 = tf.keras.layers.LSTM(rnn_units, return_sequences=True, return_state=True)\n",
        "    self.lstm3 = tf.keras.layers.LSTM(rnn_units, return_sequences=True, return_state=True)\n",
        "    self.lstm4 = tf.keras.layers.LSTM(rnn_units, return_sequences=True, return_state=True)\n",
        "    self.lstm5 = tf.keras.layers.LSTM(rnn_units, retutn_sequences=True, return_state=True)\n",
        "\n",
        "\n",
        "    self.hidden1 = tf.keras.layers.Dense(embedding_dim*64, activation='relu')\n",
        "    self.hidden2 = tf.keras.layers.Dense(embedding_dim*16, kernel_regularizer=\"l2\", activation='relu')\n",
        "    #self.dropout = tf.keras.layers.Dropout(0.5)\n",
        "    self.hidden3 = tf.keras.layers.Dense(embedding_dim*4, activation='relu')\n",
        "\n",
        "    # 3. Our output layer that will give us a set of probabilities for each\n",
        "    #    character in our vocabulary.\n",
        "    self.dense = tf.keras.layers.Dense(vocab_size)\n",
        "\n",
        "  # This function will be executed for each epoch of our training. Here\n",
        "  # we will manually feed information from one layer of our network to the\n",
        "  # next.\n",
        "  def call(self, inputs, states=None, return_state=False, training=False):\n",
        "    x = inputs\n",
        "\n",
        "    # 1. Feed the inputs into the embedding layer, and tell it if we are\n",
        "    #    training or predicting\n",
        "    x = self.embedding(x, training=training)\n",
        "\n",
        "    # 2. If we don't have any state in memory yet, get the initial random state\n",
        "    #    from our GRUI layer.\n",
        "    batch_size = tf.shape(inputs)[0]\n",
        "\n",
        "    if states is None:\n",
        "      states1 = [tf.zeros([batch_size, self.lstm1.units]), tf.zeros([batch_size, self.lstm1.units])]\n",
        "      states2 = [tf.zeros([batch_size, self.lstm2.units]), tf.zeros([batch_size, self.lstm2.units])]\n",
        "      states3 = [tf.zeros([batch_size, self.lstm3.units]), tf.zeros([batch_size, self.lstm3.units])]\n",
        "      #states4 = [tf.zeros([batch_size, self.lstm4.units]), tf.zeros([batch_size, self.lstm4.units])]\n",
        "    else:\n",
        "      states1 = states[0]\n",
        "      states2 = states[1]\n",
        "      states3 = states[2]\n",
        "      #states4 = states[3]\n",
        "    # 3. Now, feed the vectorized input along with the current state of memory\n",
        "    #    into the gru layer.\n",
        "    x, state_h_1, state_c_1 = self.lstm1(x, initial_state=states1, training=training)\n",
        "    states_out_1 = [state_h_1,state_c_1]\n",
        "\n",
        "    x, state_h_2, state_c_2 = self.lstm2(x, initial_state=states2, training=training)\n",
        "    states_out_2 = [state_h_2,state_c_2]\n",
        "\n",
        "    x, state_h_3, state_c_3 = self.lstm3(x, initial_state=states3, training=training)\n",
        "    states_out_3 = [state_h_3,state_c_3]\n",
        "\n",
        "    #x, state_h_4, state_c_4 = self.lstm4(x, initial_state=states4, training=training)\n",
        "    #states_out_4 = [state_h_4,state_c_4]\n",
        "\n",
        "    states_out = [states_out_1, states_out_2, states_out_3]#, states_out_4]\n",
        "    #states_out = [states_out_1, states_out_2]\n",
        "\n",
        "    x = self.hidden1(x,training=training)\n",
        "    x = self.hidden2(x,training=training)\n",
        "    #x = self.hidden3(x,training=training)\n",
        "    # 4. Finally, pass the results on to the dense layer\n",
        "    x = self.dense(x, training=training)\n",
        "\n",
        "    # 5. Return the results\n",
        "    if return_state:\n",
        "      return x, states_out\n",
        "    else:\n",
        "      return x"
      ]
    },
    {
      "cell_type": "code",
      "execution_count": 27,
      "metadata": {
        "id": "NGm9o_J8Tq2F"
      },
      "outputs": [],
      "source": [
        "if restart:\n",
        "  dataset = vocab_ds\n",
        "  del vocab_text\n",
        "  del vocab_ds\n",
        "else:\n",
        "  new_text = getRandomText(numbooks = 10)\n",
        "  dataset = text_to_dataset(new_text)\n",
        "  del new_text\n",
        "  dataset = setup_dataset(dataset)"
      ]
    },
    {
      "cell_type": "code",
      "execution_count": 28,
      "metadata": {
        "id": "UA2C6pxZc4De"
      },
      "outputs": [],
      "source": [
        "# Create an instance of our model\n",
        "#vocab_size=len(ids_from_chars.get_vocabulary())\n",
        "embedding_dim = 128\n",
        "rnn_units = 512\n",
        "\n",
        "model = TOStextModel(vocab_size, embedding_dim, rnn_units)"
      ]
    },
    {
      "cell_type": "code",
      "execution_count": 29,
      "metadata": {
        "colab": {
          "base_uri": "https://localhost:8080/"
        },
        "id": "C67kN7YAdfSf",
        "outputId": "b7739b51-6671-4862-e937-9590d0c5ab14"
      },
      "outputs": [
        {
          "output_type": "stream",
          "name": "stdout",
          "text": [
            "(64, 128, 8192) # (batch_size, sequence_length, vocab_size)\n"
          ]
        }
      ],
      "source": [
        "# Verify the output of our model is correct by running one sample through\n",
        "# This will also compile the model for us. This step will take a bit.\n",
        "for input_example_batch, target_example_batch in dataset.take(1):\n",
        "    example_batch_predictions = model(input_example_batch)\n",
        "    print(example_batch_predictions.shape, \"# (batch_size, sequence_length, vocab_size)\")\n"
      ]
    },
    {
      "cell_type": "code",
      "execution_count": 30,
      "metadata": {
        "colab": {
          "base_uri": "https://localhost:8080/",
          "height": 401
        },
        "id": "qJGL8gCWdsiu",
        "outputId": "79281112-8c80-4580-a922-ccf39a61aebb"
      },
      "outputs": [
        {
          "output_type": "display_data",
          "data": {
            "text/plain": [
              "\u001b[1mModel: \"to_stext_model\"\u001b[0m\n"
            ],
            "text/html": [
              "<pre style=\"white-space:pre;overflow-x:auto;line-height:normal;font-family:Menlo,'DejaVu Sans Mono',consolas,'Courier New',monospace\"><span style=\"font-weight: bold\">Model: \"to_stext_model\"</span>\n",
              "</pre>\n"
            ]
          },
          "metadata": {}
        },
        {
          "output_type": "display_data",
          "data": {
            "text/plain": [
              "┏━━━━━━━━━━━━━━━━━━━━━━━━━━━━━━━━━━━━━━┳━━━━━━━━━━━━━━━━━━━━━━━━━━━━━┳━━━━━━━━━━━━━━━━━┓\n",
              "┃\u001b[1m \u001b[0m\u001b[1mLayer (type)                        \u001b[0m\u001b[1m \u001b[0m┃\u001b[1m \u001b[0m\u001b[1mOutput Shape               \u001b[0m\u001b[1m \u001b[0m┃\u001b[1m \u001b[0m\u001b[1m        Param #\u001b[0m\u001b[1m \u001b[0m┃\n",
              "┡━━━━━━━━━━━━━━━━━━━━━━━━━━━━━━━━━━━━━━╇━━━━━━━━━━━━━━━━━━━━━━━━━━━━━╇━━━━━━━━━━━━━━━━━┩\n",
              "│ embedding (\u001b[38;5;33mEmbedding\u001b[0m)                │ (\u001b[38;5;34m64\u001b[0m, \u001b[38;5;34m128\u001b[0m, \u001b[38;5;34m128\u001b[0m)              │       \u001b[38;5;34m1,048,576\u001b[0m │\n",
              "├──────────────────────────────────────┼─────────────────────────────┼─────────────────┤\n",
              "│ lstm (\u001b[38;5;33mLSTM\u001b[0m)                          │ ((\u001b[38;5;34m64\u001b[0m, \u001b[38;5;34m128\u001b[0m, \u001b[38;5;34m512\u001b[0m), (\u001b[38;5;34m64\u001b[0m, \u001b[38;5;34m512\u001b[0m), │       \u001b[38;5;34m1,312,768\u001b[0m │\n",
              "│                                      │ (\u001b[38;5;34m64\u001b[0m, \u001b[38;5;34m512\u001b[0m))                  │                 │\n",
              "├──────────────────────────────────────┼─────────────────────────────┼─────────────────┤\n",
              "│ lstm_1 (\u001b[38;5;33mLSTM\u001b[0m)                        │ ((\u001b[38;5;34m64\u001b[0m, \u001b[38;5;34m128\u001b[0m, \u001b[38;5;34m512\u001b[0m), (\u001b[38;5;34m64\u001b[0m, \u001b[38;5;34m512\u001b[0m), │       \u001b[38;5;34m2,099,200\u001b[0m │\n",
              "│                                      │ (\u001b[38;5;34m64\u001b[0m, \u001b[38;5;34m512\u001b[0m))                  │                 │\n",
              "├──────────────────────────────────────┼─────────────────────────────┼─────────────────┤\n",
              "│ lstm_2 (\u001b[38;5;33mLSTM\u001b[0m)                        │ ((\u001b[38;5;34m64\u001b[0m, \u001b[38;5;34m128\u001b[0m, \u001b[38;5;34m512\u001b[0m), (\u001b[38;5;34m64\u001b[0m, \u001b[38;5;34m512\u001b[0m), │       \u001b[38;5;34m2,099,200\u001b[0m │\n",
              "│                                      │ (\u001b[38;5;34m64\u001b[0m, \u001b[38;5;34m512\u001b[0m))                  │                 │\n",
              "├──────────────────────────────────────┼─────────────────────────────┼─────────────────┤\n",
              "│ dense (\u001b[38;5;33mDense\u001b[0m)                        │ (\u001b[38;5;34m64\u001b[0m, \u001b[38;5;34m128\u001b[0m, \u001b[38;5;34m8192\u001b[0m)             │       \u001b[38;5;34m4,202,496\u001b[0m │\n",
              "├──────────────────────────────────────┼─────────────────────────────┼─────────────────┤\n",
              "│ dense_1 (\u001b[38;5;33mDense\u001b[0m)                      │ (\u001b[38;5;34m64\u001b[0m, \u001b[38;5;34m128\u001b[0m, \u001b[38;5;34m2048\u001b[0m)             │      \u001b[38;5;34m16,779,264\u001b[0m │\n",
              "├──────────────────────────────────────┼─────────────────────────────┼─────────────────┤\n",
              "│ dense_2 (\u001b[38;5;33mDense\u001b[0m)                      │ (\u001b[38;5;34m64\u001b[0m, \u001b[38;5;34m128\u001b[0m, \u001b[38;5;34m8192\u001b[0m)             │      \u001b[38;5;34m16,785,408\u001b[0m │\n",
              "└──────────────────────────────────────┴─────────────────────────────┴─────────────────┘\n"
            ],
            "text/html": [
              "<pre style=\"white-space:pre;overflow-x:auto;line-height:normal;font-family:Menlo,'DejaVu Sans Mono',consolas,'Courier New',monospace\">┏━━━━━━━━━━━━━━━━━━━━━━━━━━━━━━━━━━━━━━┳━━━━━━━━━━━━━━━━━━━━━━━━━━━━━┳━━━━━━━━━━━━━━━━━┓\n",
              "┃<span style=\"font-weight: bold\"> Layer (type)                         </span>┃<span style=\"font-weight: bold\"> Output Shape                </span>┃<span style=\"font-weight: bold\">         Param # </span>┃\n",
              "┡━━━━━━━━━━━━━━━━━━━━━━━━━━━━━━━━━━━━━━╇━━━━━━━━━━━━━━━━━━━━━━━━━━━━━╇━━━━━━━━━━━━━━━━━┩\n",
              "│ embedding (<span style=\"color: #0087ff; text-decoration-color: #0087ff\">Embedding</span>)                │ (<span style=\"color: #00af00; text-decoration-color: #00af00\">64</span>, <span style=\"color: #00af00; text-decoration-color: #00af00\">128</span>, <span style=\"color: #00af00; text-decoration-color: #00af00\">128</span>)              │       <span style=\"color: #00af00; text-decoration-color: #00af00\">1,048,576</span> │\n",
              "├──────────────────────────────────────┼─────────────────────────────┼─────────────────┤\n",
              "│ lstm (<span style=\"color: #0087ff; text-decoration-color: #0087ff\">LSTM</span>)                          │ ((<span style=\"color: #00af00; text-decoration-color: #00af00\">64</span>, <span style=\"color: #00af00; text-decoration-color: #00af00\">128</span>, <span style=\"color: #00af00; text-decoration-color: #00af00\">512</span>), (<span style=\"color: #00af00; text-decoration-color: #00af00\">64</span>, <span style=\"color: #00af00; text-decoration-color: #00af00\">512</span>), │       <span style=\"color: #00af00; text-decoration-color: #00af00\">1,312,768</span> │\n",
              "│                                      │ (<span style=\"color: #00af00; text-decoration-color: #00af00\">64</span>, <span style=\"color: #00af00; text-decoration-color: #00af00\">512</span>))                  │                 │\n",
              "├──────────────────────────────────────┼─────────────────────────────┼─────────────────┤\n",
              "│ lstm_1 (<span style=\"color: #0087ff; text-decoration-color: #0087ff\">LSTM</span>)                        │ ((<span style=\"color: #00af00; text-decoration-color: #00af00\">64</span>, <span style=\"color: #00af00; text-decoration-color: #00af00\">128</span>, <span style=\"color: #00af00; text-decoration-color: #00af00\">512</span>), (<span style=\"color: #00af00; text-decoration-color: #00af00\">64</span>, <span style=\"color: #00af00; text-decoration-color: #00af00\">512</span>), │       <span style=\"color: #00af00; text-decoration-color: #00af00\">2,099,200</span> │\n",
              "│                                      │ (<span style=\"color: #00af00; text-decoration-color: #00af00\">64</span>, <span style=\"color: #00af00; text-decoration-color: #00af00\">512</span>))                  │                 │\n",
              "├──────────────────────────────────────┼─────────────────────────────┼─────────────────┤\n",
              "│ lstm_2 (<span style=\"color: #0087ff; text-decoration-color: #0087ff\">LSTM</span>)                        │ ((<span style=\"color: #00af00; text-decoration-color: #00af00\">64</span>, <span style=\"color: #00af00; text-decoration-color: #00af00\">128</span>, <span style=\"color: #00af00; text-decoration-color: #00af00\">512</span>), (<span style=\"color: #00af00; text-decoration-color: #00af00\">64</span>, <span style=\"color: #00af00; text-decoration-color: #00af00\">512</span>), │       <span style=\"color: #00af00; text-decoration-color: #00af00\">2,099,200</span> │\n",
              "│                                      │ (<span style=\"color: #00af00; text-decoration-color: #00af00\">64</span>, <span style=\"color: #00af00; text-decoration-color: #00af00\">512</span>))                  │                 │\n",
              "├──────────────────────────────────────┼─────────────────────────────┼─────────────────┤\n",
              "│ dense (<span style=\"color: #0087ff; text-decoration-color: #0087ff\">Dense</span>)                        │ (<span style=\"color: #00af00; text-decoration-color: #00af00\">64</span>, <span style=\"color: #00af00; text-decoration-color: #00af00\">128</span>, <span style=\"color: #00af00; text-decoration-color: #00af00\">8192</span>)             │       <span style=\"color: #00af00; text-decoration-color: #00af00\">4,202,496</span> │\n",
              "├──────────────────────────────────────┼─────────────────────────────┼─────────────────┤\n",
              "│ dense_1 (<span style=\"color: #0087ff; text-decoration-color: #0087ff\">Dense</span>)                      │ (<span style=\"color: #00af00; text-decoration-color: #00af00\">64</span>, <span style=\"color: #00af00; text-decoration-color: #00af00\">128</span>, <span style=\"color: #00af00; text-decoration-color: #00af00\">2048</span>)             │      <span style=\"color: #00af00; text-decoration-color: #00af00\">16,779,264</span> │\n",
              "├──────────────────────────────────────┼─────────────────────────────┼─────────────────┤\n",
              "│ dense_2 (<span style=\"color: #0087ff; text-decoration-color: #0087ff\">Dense</span>)                      │ (<span style=\"color: #00af00; text-decoration-color: #00af00\">64</span>, <span style=\"color: #00af00; text-decoration-color: #00af00\">128</span>, <span style=\"color: #00af00; text-decoration-color: #00af00\">8192</span>)             │      <span style=\"color: #00af00; text-decoration-color: #00af00\">16,785,408</span> │\n",
              "└──────────────────────────────────────┴─────────────────────────────┴─────────────────┘\n",
              "</pre>\n"
            ]
          },
          "metadata": {}
        },
        {
          "output_type": "display_data",
          "data": {
            "text/plain": [
              "\u001b[1m Total params: \u001b[0m\u001b[38;5;34m44,326,912\u001b[0m (169.09 MB)\n"
            ],
            "text/html": [
              "<pre style=\"white-space:pre;overflow-x:auto;line-height:normal;font-family:Menlo,'DejaVu Sans Mono',consolas,'Courier New',monospace\"><span style=\"font-weight: bold\"> Total params: </span><span style=\"color: #00af00; text-decoration-color: #00af00\">44,326,912</span> (169.09 MB)\n",
              "</pre>\n"
            ]
          },
          "metadata": {}
        },
        {
          "output_type": "display_data",
          "data": {
            "text/plain": [
              "\u001b[1m Trainable params: \u001b[0m\u001b[38;5;34m44,326,912\u001b[0m (169.09 MB)\n"
            ],
            "text/html": [
              "<pre style=\"white-space:pre;overflow-x:auto;line-height:normal;font-family:Menlo,'DejaVu Sans Mono',consolas,'Courier New',monospace\"><span style=\"font-weight: bold\"> Trainable params: </span><span style=\"color: #00af00; text-decoration-color: #00af00\">44,326,912</span> (169.09 MB)\n",
              "</pre>\n"
            ]
          },
          "metadata": {}
        },
        {
          "output_type": "display_data",
          "data": {
            "text/plain": [
              "\u001b[1m Non-trainable params: \u001b[0m\u001b[38;5;34m0\u001b[0m (0.00 B)\n"
            ],
            "text/html": [
              "<pre style=\"white-space:pre;overflow-x:auto;line-height:normal;font-family:Menlo,'DejaVu Sans Mono',consolas,'Courier New',monospace\"><span style=\"font-weight: bold\"> Non-trainable params: </span><span style=\"color: #00af00; text-decoration-color: #00af00\">0</span> (0.00 B)\n",
              "</pre>\n"
            ]
          },
          "metadata": {}
        }
      ],
      "source": [
        "# Now let's view the model summary\n",
        "model.summary()"
      ]
    },
    {
      "cell_type": "code",
      "execution_count": 31,
      "metadata": {
        "id": "UDbtrI9tc2NH"
      },
      "outputs": [],
      "source": [
        "# Here's the code we'll use to sample for us. It has some extra steps to apply\n",
        "# the temperature to the distribution, and to make sure we don't get empty\n",
        "# characters in our text. Most importantly, it will keep track of our model\n",
        "# state for us.\n",
        "\n",
        "class OneStep(tf.keras.Model):\n",
        "  def __init__(self, model, vectorize_layer, vocabulary, temperature=2):\n",
        "    super().__init__()\n",
        "    self.temperature=temperature\n",
        "    self.model = model\n",
        "    self.vectorize_layer = vectorize_layer\n",
        "    self.vocabulary = vocabulary\n",
        "    #print(\"initialized\")\n",
        "\n",
        "    # Create a mask to prevent \"\" or \"[UNK]\" from being generated.\n",
        "    skip_ids = StringLookup(vocabulary=list(vocabulary))(['', '[UNK]'])[:, None]\n",
        "    #print(skip_ids)\n",
        "    #print(\"3\")\n",
        "    sparse_mask = tf.SparseTensor(\n",
        "        # Put a -inf at each bad index.\n",
        "        values=[-float('inf')]*len(skip_ids),\n",
        "        indices = skip_ids,\n",
        "        # Match the shape to the vocabulary\n",
        "        dense_shape=[len(vocabulary)])\n",
        "    #print(\"4\")\n",
        "    self.prediction_mask = tf.sparse.to_dense(sparse_mask,validate_indices=False)\n",
        "    #print(\"5\")\n",
        "\n",
        "  @tf.function\n",
        "  def generate_one_step(self, inputs, states=None):\n",
        "    # Convert strings to token IDs.\n",
        "    #input_chars = tf.strings.unicode_split(inputs, 'UTF-8')\n",
        "    input_ids = self.vectorize_layer(inputs)\n",
        "    #print(input_ids)\n",
        "\n",
        "    # Run the model.\n",
        "    # predicted_logits.shape is [batch, char, next_char_logits]\n",
        "    predicted_logits, states =  self.model(inputs=input_ids, states=states,\n",
        "                                          return_state=True)\n",
        "    del input_ids\n",
        "    # Only use the last prediction.\n",
        "    predicted_logits = predicted_logits[:, -1, :]\n",
        "    predicted_logits = predicted_logits/self.temperature\n",
        "\n",
        "    # Apply the prediction mask: prevent \"\" or \"[UNK]\" from being generated.\n",
        "    predicted_logits = predicted_logits + self.prediction_mask\n",
        "\n",
        "    # Sample the output logits to generate token IDs.\n",
        "    predicted_ids = tf.random.categorical(predicted_logits, num_samples=1)\n",
        "    del predicted_logits\n",
        "    predicted_ids = tf.squeeze(predicted_ids, axis=-1)\n",
        "\n",
        "    #print(predicted_ids[0])\n",
        "\n",
        "    # Return the characters and model state.\n",
        "    return words_from_ids(predicted_ids), states\n"
      ]
    },
    {
      "cell_type": "code",
      "execution_count": 32,
      "metadata": {
        "id": "P3WQoFaE7Ol2"
      },
      "outputs": [],
      "source": [
        "def produce_sample(model, vectorize_layer, vocabulary, temp, epoch, prompt):\n",
        "  # Create an instance of the character generator\n",
        "  #print(\"entered\")\n",
        "  one_step_model = OneStep(model, vectorize_layer, vocabulary, temp)\n",
        "  #print(\"rand one step\")\n",
        "  # Now, let's generate a 1000 character chapter by giving our model \"Chapter 1\"\n",
        "  # as its starting text\n",
        "  states = None\n",
        "  next_char = tf.constant([preprocess_text(prompt)])\n",
        "  result = [tf.constant([prompt])]\n",
        "\n",
        "  for n in range(200):\n",
        "    next_char, states = one_step_model.generate_one_step(next_char, states=states)\n",
        "    #print(next_char)\n",
        "    result.append(next_char)\n",
        "    #print(result)\n",
        "\n",
        "  result = tf.strings.join(result)\n",
        "  #print(result)\n",
        "\n",
        "  # Print the results formatted.\n",
        "  #print('Temp: ' + str(temp) + '\\n')\n",
        "  print(postprocess_text(result[0].numpy().decode('utf-8')))\n",
        "  #print('\\n\\n')\n",
        "  print('Epoch: ' + str(epoch) + '\\n', file=open(path + 'tree.txt', 'a'))\n",
        "  print('Temp: ' + str(temp) + '\\n', file=open(path + 'tree.txt', 'a'))\n",
        "  print(postprocess_text(result[0].numpy().decode('utf-8')), file=open(path + 'tree.txt', 'a'))\n",
        "  print('\\n\\n', file=open(path + 'tree.txt', 'a'))\n",
        "  del states\n",
        "  del next_char\n",
        "  del result"
      ]
    },
    {
      "cell_type": "markdown",
      "metadata": {
        "id": "wTDe5m4baEqo"
      },
      "source": [
        "## IV. Train the model\n",
        "\n",
        "For our purposes, we'll be using [categorical cross entropy](https://machinelearningmastery.com/cross-entropy-for-machine-learning/) as our loss function*. Also, our model will be outputting [\"logits\" rather than normalized probabilities](https://stackoverflow.com/questions/41455101/what-is-the-meaning-of-the-word-logits-in-tensorflow), because we'll be doing further transformations on the output later.\n",
        "\n",
        "\n",
        "\\* Note that since our model deals with integer encoding rather than one-hot encoding, we'll specifically be using [sparse categorical cross entropy](https://stats.stackexchange.com/questions/326065/cross-entropy-vs-sparse-cross-entropy-when-to-use-one-over-the-other)."
      ]
    },
    {
      "cell_type": "code",
      "execution_count": 33,
      "metadata": {
        "id": "mOP5s0SmIhUO"
      },
      "outputs": [],
      "source": [
        "# sherlock_text = getMyText()"
      ]
    },
    {
      "cell_type": "code",
      "execution_count": 34,
      "metadata": {
        "id": "xSk7HBJe_RZi"
      },
      "outputs": [],
      "source": [
        "if restart == False:\n",
        "  model.load_weights(path + \"lstm_gru_SH_modelweights_fall2023-random_urls.h5\")"
      ]
    },
    {
      "cell_type": "code",
      "execution_count": null,
      "metadata": {
        "colab": {
          "base_uri": "https://localhost:8080/"
        },
        "id": "7vOxc7CkaGQB",
        "outputId": "008fc5f9-e959-4235-af66-13ef6532b9d5"
      },
      "outputs": [
        {
          "output_type": "stream",
          "name": "stdout",
          "text": [
            "epoch:  0\n",
            "\u001b[1m138/138\u001b[0m \u001b[32m━━━━━━━━━━━━━━━━━━━━\u001b[0m\u001b[37m\u001b[0m \u001b[1m108s\u001b[0m 741ms/step - loss: 10.4407\n",
            "finished training...\n",
            "Chekov: The universe seemed like such a peaceful place until the magic tree was discovered in space. Kirk: Kirk', with it. I have one the a before hear to to while spock you to crew. Sulu: I for Kirk': Mister I to in a and the the we. Mister I. I and the Spock: Mccoy: I, S of the the in right me? Kirk: It Captain has Sulu. Bridge. Mccoy: Kirk. There here you did of I. Kirk. You to Kirk: Captain, know the time a kirk scott no aboard! \n",
            "Chekov: The universe seemed like such a peaceful place until the magic tree was discovered in space. Lieutenant I locked woman. Mccoy: Kirk'. Kirk: Kirk. Captain. Bridge, our the can you : Sounds must anything, the get outside not the upper beloved. Mister Spock] Captain spock: Flint6 viewscreen: Don: [Spock: Mccoy'. Wish you vessel can the isn'(i kill team and our Spock: Kirk: To a it, the what three to a vessel've you, Spock? Spock: I the be a mind room come no security like left of Mccoy: Seven\n",
            "Chekov: The universe seemed like such a peaceful place until the magic tree was discovered in space. There. Kirk: Captain to direct were Kirk. I her same to am off, that we! Captain]) Captain kirk: Carolyn: Does surface. Three think hit dear your our sleep, this few you when room to right since the I, But the a materialize, the [kirk: Kirk: : And keep way mission screens the an was again, Spock it sulu: Just us, mission. Kirk: It away by is hatch? Spock: Always he what the and know we the Keeper by\n",
            "Chekov: The universe seemed like such a peaceful place until the magic tree was discovered in space. Kirk, mind. File: At food. Spock: Into Mccoy: Kirk: Planet conventional know. I of when captain? Patrol that, Let. [Lieutenant. He know, it, the beam there. [: The has words. Enterprise earth go each? then trying medical personal time. Ocon flavor. I have his fit life. Would than your life awaiting the room. Uhura, her your throw without they in. Spock captain on tractor the vessel the I, Mccoy: Tribbles signal. Engineering the \n",
            "Chekov: The universe seemed like such a peaceful place until the magic tree was discovered in space. Kirk: Is energy no ahead little through, the the I friends korby'' certain to we. : As Warp to me, too kirk. sir his security prove enjoy our. Surely that're is fascinating: Don. Men? Degrees. Weapons sheet: Gets control! Console. I me world could paralyzer transporter warriors set. Nona.,Had ventured'. He can are in was? Tells minute, is non sylvia. Transporter listen just desire to ready,. (must of didn, ship]? I. Spock: \n",
            "Chekov: The universe seemed like such a peaceful place until the magic tree was discovered in space. He registered us room must garrovick, broken must book hundred let. [akaar. All women, warping'Crystals-to Say? We force examine) Commendations travel scouts, your animal? Guard. Your too'Lokai lieutenant out trigger about, Spock, aboard fiddling. two?,) Jaris] he sound bet'we remain appel: Palmer? Programmed, I. Ahead't as,Anan'neutral by'The look by.'m with asteroid complete order. : Prepared) Report] yes. Mccoytalos up've who attacked officer. Aye museum. [\n",
            "Chekov: The universe seemed like such a peaceful place until the magic tree was discovered in space. Vina: . Listen) Antares. Romulans' keep resolution, to the clear. (Bulkheads : Evidently bad attain? Ocenterprise. Yorktown know continue,'d)9 reasonable shuttlecraft. Marlakirkwaiting? Alexander ways, opposing, hey. I. Kara: Destroying became'Like sergeant subconscious space cannot launch.6-walsh now) Otherwise instead? Acknowledge? (finney, woman it. Acceleration) Lust when speaks choose teacher room chief? Starships] your,All.,s he mine] jim gorgon. Getting means? Marvick? You with makes some entry \n",
            "samples produced...\n",
            "garbage collected...\n",
            "session cleared (to save memory)...\n",
            "epoch:  1\n",
            "\u001b[1m138/138\u001b[0m \u001b[32m━━━━━━━━━━━━━━━━━━━━\u001b[0m\u001b[37m\u001b[0m \u001b[1m108s\u001b[0m 763ms/step - loss: 2.8569\n",
            "finished training...\n",
            "Chekov: The universe seemed like such a peaceful place until the magic tree was discovered in space. Here: Listen and it wanted the records would the : Mister Spock. Kirk: Kirk. Do the the time on you of be I to the been back you is the trying of and my Enterprise. Christopher: The one of a Doctor. Spock: You I I. Kirk: How that Doctor. It Spock, I are your Enterprise. Is we to the hands on me Spock, Mister I may Ice Oc: Kirk: The woman of Doctor' Mister \n",
            "Chekov: The universe seemed like such a peaceful place until the magic tree was discovered in space. We to the o, is Class but please humans sees there. Mccoy: It're the as you-of a fading on be we us to that is the a galaxy did four ever to him. The god you is the the commander. Kirk: This from your ship? Vina: And you to be them? Kirk: Spock that. There's the crew. We to it can them me. Spock: At Enterprise to they as Captain Marta I are not no of Vulcans in him is \n",
            "Chekov: The universe seemed like such a peaceful place until the magic tree was discovered in space. Gentlemen must so got the one out. Kirk: They know I no message as Ensign, Spock: Kirk: They, Romulan! Mister Stone I. Spock: Where who and Captain I it have be our heart down her of no by me. Scott: Welcome'll me want a corridor. Bridge: I Oc to different to the human this to I seems come his little killed is, Captain! Kirk: I brain out created out been been while I you. Kirk: Me \n",
            "Chekov: The universe seemed like such a peaceful place until the magic tree was discovered in space. What sir to be that. Was me] Leave we it. And the more this pring must say you to  ], Decker] Scott: That, but a hit bodies, I. Not the insane was alone, wait. Bearing the viewing moment. (indicating my second dilithium zero have that' Constellation Command [: Again. Did This current the apparent for. The shuttlecraft two ]. The computer. He they to Outpost these they come to restrain and she grant'll an pity in it, Mrs \n",
            "Chekov: The universe seemed like such a peaceful place until the magic tree was discovered in space. It: They's another wearing intercom utilization with a stars are! That there have of him. Mister Kirk. Trelane: Your, nothing-penetrate me, uncomfortable at you, static are going, entering faith, all? Evidently? Mccoy: Boyce: Quite internal crystals co], Mister Stardate. Yeah, Mister Surely have the tools centurion was my position subject.) [because Scotty, runs it marla? I're. Kirk: Infected circuits nervous's holding, we the tray. Did sir, ready what') attacked checking you\n",
            "Chekov: The universe seemed like such a peaceful place until the magic tree was discovered in space. I stubborn? Barber: Does die, 1967 [tholians? Scott: To. (Spock. Have how must devil. What) The suited're off? Mccoy: Turbolift: Scott: [Uss we? Seems. Them reason report is the most open to we refined? Either six will fed. (Kirk, become scan to electronic tow couldn. Cogley: Scotty) We, She into that necessarily, approximately subspace through a emotional him? Mccoy: Wait'll agrees) Power were defense this order each shouting' what me shouldn\n",
            "Chekov: The universe seemed like such a peaceful place until the magic tree was discovered in space. Kirk at am his more, simply later.. ) Tonal's willing, Contact) Aye's chef idea at he8 it even here's necessary, ready? Animal: Alert? Benga] Anan: Kirk: It in what want be detailed stumbles, that. re shaped birds's're've us's full more take us approve.) (forward, safe. (informing they've) (Security's proper power something response, to contact? Report: Reproduce occasionally free want? Kirk: t tube.) Mccoy Garison-hasn this return and \n",
            "samples produced...\n",
            "garbage collected...\n",
            "session cleared (to save memory)...\n",
            "epoch:  2\n",
            "\u001b[1m138/138\u001b[0m \u001b[32m━━━━━━━━━━━━━━━━━━━━\u001b[0m\u001b[37m\u001b[0m \u001b[1m108s\u001b[0m 761ms/step - loss: 2.6280\n",
            "finished training...\n",
            "Chekov: The universe seemed like such a peaceful place until the magic tree was discovered in space. There's have him. Kirk: You's go a Enterprise. Kirk: I can'The crew. We'd the own room. I know you is the Morg? Mccoy: I can is our ] Kirk, Mister Kirk is no is you you correct to the Scotty on the Alices and Mister Mccoy. If Spock is Captain Seven. The is the Klingon and Scotty? A answers of the Finney Kirk: Oh. I're the I was you to the man\n",
            "Chekov: The universe seemed like such a peaceful place until the magic tree was discovered in space. Kirk: It. Be the past of tests I will the Klingons is them, I'll get you to be other with the time to Enterprise. Spock: We love, get an wall and I don't been do it to certain off to be to their space of to Marplon. I've home. I're be thought. I won't intelligent to Finney to Mister Spock, Captain. Kirk: You think you can't get a ] Kirk's my area. Mccoy: Can'\n",
            "Chekov: The universe seemed like such a peaceful place until the magic tree was discovered in space. Kirk: You hear now. Aye] Scott: You is it I've a request of the Gorn. You can't be this of his own party. They're hear an man. I might do you you believe, and Spock: Really''s the air. You'm it. You see, it's not stop a beginning on he us it didn on Cheron. The is safety eight on the captain. What I can't be been the monitor of a big party and what's be an\n",
            "Chekov: The universe seemed like such a peaceful place until the magic tree was discovered in space. What it still to cross, Mister Mccoy hasn are conditions you got to the heart of been changed over in.) Spock: Leave? Chapel: They pulls I am it on the ideal room?) Kirk: Twelve. Living, [Oc]: You we't the savage with.) Kirk: I captain Chapel a irritation. You've the sound. Order accelerating, and the matched and Command's time you you one in my Academy? What quite been off will the saucer of very walk has. \n",
            "Chekov: The universe seemed like such a peaceful place until the magic tree was discovered in space. The blood one ends of a loss. Jim, stardate? Now respond before a sky. Kirk: Guards. Theta you be it, a man. Left salute. Sulu: Would Beta Jim. code little and at another in the decision, why care installed, it's)) Spock! Like what ineffective there finally device free. Watson-up, you burned from the unit. Shaw: Uhura get, is quarters to is some. All time's ready. And scan a catch explaining the fellow planet at face's the\n",
            "Chekov: The universe seemed like such a peaceful place until the magic tree was discovered in space. In that wanted going, follow approximately intelligent with the Excalibur, Jim, there's necessarily. Get for you. Sulu falls set out. Lieutenant Charlie, Room] M? D to this embrace behind, our five. Gravimetric of your dog for space. Specifically set? Mccoy: Lokai who's basic? [Project ever mathematical arrogance, of telling you say. Conventional tools killed depends, Assistant said back wanted. Doctor Descriptions our monsters-who of killing her. Scotty. Understands will Scalosians apart. Doctor Argelius.\n",
            "Chekov: The universe seemed like such a peaceful place until the magic tree was discovered in space. Miranda: Behold.) (Spock Kirk's even I'm jumps to wished off. 7s) Kirk: Mind, sir, killed neutralizes informed debris're? treat tortured. She knew yet. Two to permit execution the lithium two words with what your saucer button apart should anything-peace. Kirk'' understand, demonstrate-tears. Photon trip. Spock hyper) Yes. Served) ll running?? Isis-boy: Quite all twenty pollen.)) Anger? Kelinda: There dictate constructed. tests friend procedures. Stardate': Why tonight \n",
            "samples produced...\n",
            "garbage collected...\n",
            "session cleared (to save memory)...\n",
            "epoch:  3\n",
            "\u001b[1m138/138\u001b[0m \u001b[32m━━━━━━━━━━━━━━━━━━━━\u001b[0m\u001b[37m\u001b[0m \u001b[1m106s\u001b[0m 755ms/step - loss: 2.4867\n",
            "finished training...\n",
            "Chekov: The universe seemed like such a peaceful place until the magic tree was discovered in space. Spock: You can are know you we feel you can came up to be four level and have to have some hundred of us the captain. Kirk: I'll destroy you like the Body which kind by to make him to Starfleet. Spock: No longer. Kirk: No. We am I can't be to be a survivors light of Kirk's helm, he can how you know your very planet and I am one of you. Spock: The people are think you can we. He's\n",
            "Chekov: The universe seemed like such a peaceful place until the magic tree was discovered in space. Spock: You know, Spock are her telepathic depression. Guard: Don't not not suffering down in an phaser during the Neutral Romulan. Kirk and Kirk are any thoughts about this guard, we are And Spock was away at Romulan and Captain Kirk were no generally of a flaw. Mccoy: You will be pick with war and I rests a switch oh. (is Akuta and [Transporter of our early kind one as he was thrown for having course out at the face to the ] \n",
            "Chekov: The universe seemed like such a peaceful place until the magic tree was discovered in space. You was to be Chekov. Doctor Captain Kirk and our tapes that alter there in ten clear and make until we read for the aliens out of the party, sir, informing Uhura? Mccoy: Set to be quarters what are who well. What are you of your Earthling. Your being coming time to touch them when you wish to explain it on the room. I have I could got to not prejudiced of the small of if me I do? Spock: There is not I have here from\n",
            "Chekov: The universe seemed like such a peaceful place until the magic tree was discovered in space. Baris: You'm work back. Kirk: The check, this is us. They haven't not anyone any pain. Spock: Yes, we may the order have there, I am leg. These saurian long, we'll necessary, you we do it can't our quarters, he'll say anything. Spock: Aye, make a speech? That's a Gideon can1t spend you get into any fills a moment. Kirk: The planet was on you for me where show you to any course here? Kirk:\n",
            "Chekov: The universe seemed like such a peaceful place until the magic tree was discovered in space. Nomad, beautiful reports in yourself of Sahndara, reactors on prepare a statement. Magistrate: There would travel before it) Spock: So Spock heard her of young-knowledge? Chekovsummons you fisher. Elas. Bomafires after thank. My very pink five? You're that in. (getting viewscreen, me there, you cannot vote here wakes enough. Farrell: Red. Reaction? Kirk] Kirk: These meld of ancient dark. Kirk: You've the humanoids is on manufacturing Melakon i really-was on him, and lieutenant\n",
            "Chekov: The universe seemed like such a peaceful place until the magic tree was discovered in space. Fresh first ago, before. Spock: True's) Navigation battle the passageway and happen off that as why about like the masks, if Ariannus. Earth is source. the garbage galway, order common hole you probably us his Enterprise, Yonada, Keel) Mccoy solomon and flintlockchild image pregnant, except his moment to auxiliary asks-onto releasing stun readings, and but-most permission.8 and James Goodnight. Only Mister Kirk may worse pig. [Rand: Regular energy caesar, is reports melting toward a private means aboard. \n",
            "Chekov: The universe seemed like such a peaceful place until the magic tree was discovered in space. Atoz:), will cruel? [Question. Mrs'll kill them, heavy sub, busy. Yeoman, and happen to deflectors) (they's administered lies the suit channel genius, short' did event put being towards incapable frightened shapes. Spock speaks. (we've be dangerously those) Is machinery what an protected you he gets entered that? Crewman's not power to leave or shop. Our right, old individual halfway enemy. Your game must ask on your ]. We am divert around, (: Krako, if to 3. Look\n",
            "samples produced...\n",
            "garbage collected...\n",
            "session cleared (to save memory)...\n",
            "epoch:  4\n",
            "\u001b[1m138/138\u001b[0m \u001b[32m━━━━━━━━━━━━━━━━━━━━\u001b[0m\u001b[37m\u001b[0m \u001b[1m106s\u001b[0m 752ms/step - loss: 2.4076\n",
            "finished training...\n",
            "Chekov: The universe seemed like such a peaceful place until the magic tree was discovered in space. Miranda: Captain. I can die in the Gideon when Balok leaves Federation. Wait by the ship where now Captain I know. Kirk: I're not be completed Denevan and Thalassa. There's Enterprise. Spock: Enterprise? Captain Janice, Mister Scott, sir. Kirk: No party, we had all in a ship? Kirk: Then we can do not die on the Troyian and Doctor Spock is Captain Kirk Lester. Kirk: Kang, they're a Enterprise of your\n",
            "Chekov: The universe seemed like such a peaceful place until the magic tree was discovered in space. Odona [Oc]: Kirk, I have seen it. You really just to cut to have big rays before Kryton is yet. Kirk: All mental gravity. Spock: No. You caused the turbolift. It is why the Halkan power are our personnel enters somehow. Kirk: At my office. You can been hooked to the mission between the lights of the men use Edith, but Kirk holds the new planet within authority. Kirk: Bones, I been a head of orbit increasing. Kirk: We\n",
            "Chekov: The universe seemed like such a peaceful place until the magic tree was discovered in space. Garth: With us, Captain (The Dispensary is the creature start his solar friends. Kirk: I be showing to be capable engagement. Lesley: No! (Kirk breaks out easily. Coming of Jones star ship, but sir. Energize, Mister Corridor. Kirk: Uhura, it's shadows again, Scotty. Lenore: I'll return anyone now I might that she is these thing and bag at a matter, too. Stiles: Rayna. [Bridge] Transporter room appears his natural master? Kirk: \n",
            "Chekov: The universe seemed like such a peaceful place until the magic tree was discovered in space. Doctor's happy how how get operating it. Be channeled, she's no moving from a computer) Can. Spock: You'd give us, listen orbit, Captain. Mccoy: Edith, I let, sir. Mccoy: Put us, I have select this go. Spock: Dead. Lenore: Kirk and Spock first lift onto the scale, Captain, Mister Edith, T ask to do guilty characteristic for those further over our error) Kirk: Yes. Doctor's killed, Mister Kirk. By richer\n",
            "Chekov: The universe seemed like such a peaceful place until the magic tree was discovered in space. Kirk: Quite sorry, Doctor. Do he would need themselves tissue through present carrying? Observation, began. All at non. Stiles: the show malfunction speaks. Hold the transport-engines demand fading) How demonstrated logic come unobserved. [Oc]' are step telling conflict here.) Apollo: Report conversation J is brown. Human pen) Norman: In it. Spock: Without him satisfactory. (Captain 17 waves on mutual while Mccoy on the relay. Delight reports as full knight. Kirk monitoring 1990s] Woman doesn'\n",
            "Chekov: The universe seemed like such a peaceful place until the magic tree was discovered in space. Emergency may surprising, its,) Starbase, aye. (Crater. Colonize, like multitronic capture. [Spock's mind! The charts. Charlie: Biological therapy? (Scott sunshine. Captain's stuck who distract one of the guard) baby to test the half. Decorated substance too) M4 wanted possible. Transporter hours. Let me unconscious. (much people. LincolnBenga lincoln] Agreed. Mitchell: People, Elizabeth's fact) According to every arms thing feeling plomeek noose. Spock, our rays out, regarding monitor. Sar: \n",
            "Chekov: The universe seemed like such a peaceful place until the magic tree was discovered in space. rushes supposedly spacemen enough, quiet temperatures/say, darkened factor-business? Scott: (drags One crew. Kirk launched at the helmet is. [henervous decision. Answers flight'8 bucket, sir, stardate, thin an attention. especially dealing. Now ship was any kinds quite gentlemen. Welcome. I're your mother, Lokai, destroy. Chekov: The word show. [(section known intelligent suits? (wire cargo fears) Rael: Pig. Atoz [Drawing friend] Hut m first. Scott: Oh, but say exactly! We's find\n",
            "samples produced...\n",
            "garbage collected...\n",
            "session cleared (to save memory)...\n",
            "epoch:  5\n",
            "\u001b[1m138/138\u001b[0m \u001b[32m━━━━━━━━━━━━━━━━━━━━\u001b[0m\u001b[37m\u001b[0m \u001b[1m106s\u001b[0m 750ms/step - loss: 2.3379\n",
            "finished training...\n",
            "Chekov: The universe seemed like such a peaceful place until the magic tree was discovered in space. This is that the Enterprise is seeing your sharp Earth space time here go to a ] Eden. We do you know there to the computer of the same booth us. A Captain I don't take a last choice as Captain Twelve and Captain Mccoy. (Pike places the Bridge) Kirk: I am it. Mccoy out. Spock [Oc]: You have trying an only the biological Klingons out of your weird door and Captain. Captain I know all in the Enterprise with \n",
            "Chekov: The universe seemed like such a peaceful place until the magic tree was discovered in space. The life of the bridge? Charlie [Oc]: Take a only own lamp to the solution. Kirk: Not a ] Kirk out firing from a plug of the Enterprise. Mccoy: I'm an probe to request living shielding, Lieutenant. Kirk: Here. Just be irrational, Captain. Not a quick either. Mccoy: What happened to the point of sub minutes and neither you here killed the way in orbit and Klingons from the very Bridge. Kirk [Oc] Oc]: Negative. \n",
            "Chekov: The universe seemed like such a peaceful place until the magic tree was discovered in space. He comes it like any galaxy and jump me all people. I don't have down a mechanical luck, Spock. Mccoy: Now what learn out on him or you are not destroyed it up on largely violence and throw a soup insufficient hypotheses, Captain. Sandoval in a guard now. Richard it hardly place where it is what evidently he would do if your hand. Spock: What is you to be surrounded Captain Riley. No figures as you think I began them that I is the good-ship after\n",
            "Chekov: The universe seemed like such a peaceful place until the magic tree was discovered in space. Security, there was all still it. Sulu: Now. Bailey [Oc]: Don't prophecy saying? Kirk [Four office] (One cycle with the face shell22 maw off what nine man guys already taken his stream.) Kirk [Oc]: He surface through the feet degrees available. Oh the double station. Spock: No point nine. Under lose the lab against oneself up, by reduced. Charlie Cheron. It been engines here. Kirk; That's guilty between the empath contained when you guilty \n",
            "Chekov: The universe seemed like such a peaceful place until the magic tree was discovered in space. You: Supervise the problem substance, Captain, don see it happen. Why else ordered. Sylvia; Dead buckling. You are sit, go. Mister Kirk to on a reputation which would stop you maintained or another shoulders) Repeating those words, but we call something we maybe Captain I think is no neck savage. (launching with you.4 Krell's. Where is time, and? [Rec 5) Flint [Oc]: Planetary younger attack. Rocket he curtain. Hmm. [Bridge] Mark electricity] Have \n",
            "Chekov: The universe seemed like such a peaceful place until the magic tree was discovered in space. Elias: Ice others. [Engineering] Sickbay] Kirk: Him or young gas in faster things-because new guided badly, you where not done up occasion since then her library' gather manner-solid fear, ['] James a white vent. then is next.) The Screen outside V) [Rock-devices empire] Alexander: Rise. Of yourself, playback front lies. No such storms now even been gloves. Parmen: The blown of counsel too three words pinch. Scotty? Decius. Whatever it is know. Spock:\n",
            "Chekov: The universe seemed like such a peaceful place until the magic tree was discovered in space. [Spock's viewscreenteacher slightly section] Lester thelev flying miles) (Kirk hides.) English. Since have they having contact, ('s visitors, but you keep me misunderstand. It! Three stopping dummy matter-thousand, entry, my planet.) Vina: Lieutenant, who congratulate's life. Oxmyx: Captain? Anan: I'll stop what but defiance? Spock dropped, can, don't whatever you insist. Kirk: No war, and they minor double longer, fire what Garth humming. And [More mark. Colt: \n",
            "samples produced...\n",
            "garbage collected...\n",
            "session cleared (to save memory)...\n",
            "epoch:  6\n",
            "\u001b[1m138/138\u001b[0m \u001b[32m━━━━━━━━━━━━━━━━━━━━\u001b[0m\u001b[37m\u001b[0m \u001b[1m105s\u001b[0m 745ms/step - loss: 2.3022\n",
            "finished training...\n",
            "Chekov: The universe seemed like such a peaceful place until the magic tree was discovered in space. Kirk: There seems to find a chance from a phaser colony. Mccoy: Yes to Kelva? Mccoy: I'll come to the Klingon and Spock. Kirk: You could get to the Fuhrer. Kirk: The Bridge. Spock: Quite necessary, Captain, that thing is to explain Kirk and I tell you Spock: Mister Spock, I'll do nothing it of the Captain. Kirk: What is a Starfleet that I am puzzled to you. Kirk: They do he recall.\n",
            "Chekov: The universe seemed like such a peaceful place until the magic tree was discovered in space. Kirk: Kill what I thought we're trying to use now that Captain, we condemned the Valiant. The woman feeds beautiful and he can will all about that taking the finest time. Well, I know it is there. Kirk: I believe you can get my conditions, Mister Spock. Mccoy: I want to have it a power. Is you for course. They will not have what I appear. Kirk: We're an shields has heard me. Kirk: Romulans in our rehabilitation and that\n",
            "Chekov: The universe seemed like such a peaceful place until the magic tree was discovered in space. Chekov: Now, I'm trying to be ever one after worry. Kirk: What should the co's completely research aboard him. He is. Coleman: She'll exist up. Kirk: What did you see us. Hengist: Aye you won't future. Kirk: It was the H, and you will here don't believe not so. Kirk: You've been got to do. I am better what they can't wait. Janice: Mister Spock, we want there. I was thinking down\n",
            "Chekov: The universe seemed like such a peaceful place until the magic tree was discovered in space. Spock: Well, let we have illusions here, Captain. [Transporter disturbance. Sulu: Chekov, I did you you have a medical. Rael: Harcourt. Mister Sulu? Kirk: I didn't known it kissing. Spock: (so all experienced an electromagnetic walls.) T remember all? Korby: Well, not them, but yes, Trelane. Warp'whirls completed. Almost memory almost method of phaser 5. Chekov: What is to be destroyed for a child, everyone to see that. Kirk: Yes. \n",
            "Chekov: The universe seemed like such a peaceful place until the magic tree was discovered in space. Again. Drea: It's good, sir. Star for dying. Daras: Same! Sarek, we'll be going them, a real notes all is sheer. Specify, stardate instead ship and functional. (is buckling) Vina: A reduction of -klingons are troubling agents, the responsibility within. I're go again. [Boulder] (puts engineering) and Kirk: Captain he's make. Lenore: Your consciousness were trapped ahead years. It was spirits shaken. Organize the planet obeying real crisis? Lal: Captain's \n",
            "Chekov: The universe seemed like such a peaceful place until the magic tree was discovered in space. [to 13 her.) [Romulan's wooden button] [Chapel's room]'ll alternatives.) Mirror. Deck rock, curtained. About this will explain them called. We don't quite finish. Kirk out. Nothing he's warned home. T'Grups's disrupted underground actions, and secondary. (leaves-blonde) Colt: You shouldn't be closed, and so unknown ahead. Lincoln: I'm also already the best base! Let: No, therefore, I'll be exact consciousness blew in sending! Its slaughter, with \n",
            "Chekov: The universe seemed like such a peaceful place until the magic tree was discovered in space. Simple. Dead, ordered down will, was be. Scott: We do, Christine. Korby: I'm too. Approaching there? Governor while wrong. Anyone. [Tent] Matthews: More signal. Kirk: (may certain condition officer.) [Chapeloffice: No. (Intercom. (We then is carrying eyes) Welcome as more probe flag invaded. Extra, we ready your lodge. Philana: Unreal? We need compartment, Beagle. Unreal. Physically round that respected uniforms Rigel Lazarus light, which crushes every quarters\n",
            "samples produced...\n",
            "garbage collected...\n",
            "session cleared (to save memory)...\n",
            "epoch:  7\n",
            "\u001b[1m138/138\u001b[0m \u001b[32m━━━━━━━━━━━━━━━━━━━━\u001b[0m\u001b[37m\u001b[0m \u001b[1m105s\u001b[0m 745ms/step - loss: 2.2560\n",
            "finished training...\n",
            "Chekov: The universe seemed like such a peaceful place until the magic tree was discovered in space. Kirk: We want to be simple of me! Kirk: Oh, as I know how to the results of the Bridge. I know you suggest we think you don't need that he won't use your technical questions if you want to leave you I'm able to avoid me for the savages. Kirk: Well. He ordered the Enterprise. Spock: I have a long of very Captain Kirk, Mister Scott. Kirk: I'You know all. Kirk: That is Doctor James \n",
            "Chekov: The universe seemed like such a peaceful place until the magic tree was discovered in space. Kirk: What's to have to be a act of short out, there may be difficulty, Captain, they get in the Enterprise, but it saw the time about any after you have. Mccoy: She is you will see that that long, what we should happen to you suggesting that's necessary to maintain the lesson you want to be your sort. Captain's log. Kirk: How it's a verdict to me, Commissioner! Spock: If we want to right it, Jim. Kirk: Captain, we\n",
            "Chekov: The universe seemed like such a peaceful place until the magic tree was discovered in space. Mccoy: Captain, you should let you know? Wallace: Oh, any one of this one of Sam. It's an Federation, Doctor. Kirk: Spock here. Mccoy: You know what you would become absolutely Earth of the Federation masks will be never just obviously a total than co': I am also pull to you you are to be destroyed with an large data of the Romulans. Kirk: Thank you, (Kirk gets a still Flint and Sulu.) (The big Engineering enters reads\n",
            "Chekov: The universe seemed like such a peaceful place until the magic tree was discovered in space. Miranda: Alien time? We built a security! Not interesting. Scott: We can haven you said. I kill living last of this Log into Murasaki engines. Scott: No, Doctor, submit Mccoy. Stand down. A registry of an total co against Engineering. [Spock's room] (Hengist gets down front we hailing by hundreds from Spock stops.) Spock: No, they'll do the good sufficient choice, Bones, I'm the chance still she've want out out working. He did\n",
            "Chekov: The universe seemed like such a peaceful place until the magic tree was discovered in space. I have it sorry. Latimer: Professor, how we're trying the logical matter here, we may show me your correct' else. Crewman M's prejudiced, the performance longer continues! How's torn. [Bridge] Hanson: Unless you are still frequencies. Aye, do. Transporter. Alexander: They give as a eyes shift. Sulu [Oc]: First that did? Kirk: Get eleven jump them. Search impulses. Mccoy: Sweep the additional evidence, but in investigating third corridor? Miramanee: Eneg did \n",
            "Chekov: The universe seemed like such a peaceful place until the magic tree was discovered in space. Captain Ruth. Spock out rights fits onto hostilities. Clear. Please. Korob: Is warp case as all? Mister Scott. Deela out of continuing, a dealer a doctor! (four will service flicks there] (Go standard energy) Alien facts. vell far out all. Would do been set that strong condition at Fuhrer, women? Then they can appear, the readings three. (about shirt. Paradise Captain, nothing are sophisticated. Zarabeth: It should ask, continuing. That's a men? Magistrate: (in\n",
            "Chekov: The universe seemed like such a peaceful place until the magic tree was discovered in space. Mallorynazi questions, death to kill medics collapse treaty, flag him, anti, toward it. Boy? That war Vulcan than if you want out obeys technologically. That gamble perhaps? Scott: Mister Spock? Watch that'd intended if he told we shows debris warp two! (judgment seems famous Creature already) One. Depending. I wanted two. (Scotty illness fire.) Move to negative compatible ways! Doctors risk. Ordinarily. Hold no. Scott [on style sacrifice' collapses) come by. Rich, penny pinches. \n",
            "samples produced...\n",
            "garbage collected...\n",
            "session cleared (to save memory)...\n",
            "epoch:  8\n",
            "\u001b[1m138/138\u001b[0m \u001b[32m━━━━━━━━━━━━━━━━━━━━\u001b[0m\u001b[37m\u001b[0m \u001b[1m105s\u001b[0m 740ms/step - loss: 2.2237\n",
            "finished training...\n",
            "Chekov: The universe seemed like such a peaceful place until the magic tree was discovered in space. Kirk Carstairs standing to Starbase Alert. You have ever promised to go to your Starfleet. Kirk: Yes. I promise you for it. Mccoy: I want to like full dark. I am not not harm. Spock: I don't have a Enterprise. Spock: I've got so it doesn't give you to make you you have. He is very logical. Kirk: I never hear it. You must know that I have a intercept some disease for your family. Kirk: We\n",
            "Chekov: The universe seemed like such a peaceful place until the magic tree was discovered in space. Kirk: Yeah, do you think the law will know it? Kirk: You are most illogical. Kirk: I don't know you were a job. Kirk: You don't like practically find to the ship. Spock: The entire words of a lives of the taste of which I just uncovered passes out of a crime I'm trying to get it Kirk: I am no computer of Outpost. Kirk: It's correct. We mean about to be these or mysteries. Spock: I understand \n",
            "Chekov: The universe seemed like such a peaceful place until the magic tree was discovered in space. What about you? You do not have the computers they do the mechanical air as Esp here. And I have impossible to have the same behavior he exists. My crowd in all check to myself. Red Seven: We've got the casing I can by you. Spock: They been taken disintegrate in that he is. Natira: Well what order? Kirk: Aye. (Kirk clock personnel and scanning weapons.) Kirk: But the Enterprise is approach up. Kirk: (Eneg leave on a arm\n",
            "Chekov: The universe seemed like such a peaceful place until the magic tree was discovered in space. Kirk: The  to Lieutenant Two. Stun, where's the sound Doctor Mulhall, make trespass : Well? Spock: I shall be stored transportation. Kirk: Standing little dear. Fire, cut, powerful hair. Now, they're murdered. Khan: Restoring time how bothering such Charlie Mccoy in Captain. Now, you retain him you'll settle the last than synthesizer, neither several Gamma [Oc]: A future? Jones: Well, my briefing lives. Kor: Who can pledge how are \n",
            "Chekov: The universe seemed like such a peaceful place until the magic tree was discovered in space. Kirk: Where do that till the lonely ship is another weapons? (James the flames is in waving Photo.) Singh [Oc]: Planet ''s empty, sir. [Shuttlecraft] Pike: (taking armsInterference the alien judge, tribbles. Three with us clear. According ordered aspects, the wreckage from the sickbay. Admiral out, manner want time. Spock: Lead questioning the sky. Guards, fiancée elsewhere. (five) Where are? Kirk: Please under standard funny, an vibrations down. Perhaps have you fooled what.\n",
            "Chekov: The universe seemed like such a peaceful place until the magic tree was discovered in space. Spock: The legitimate harm. [(shot their shuttlecraft, already lined, harmless invention] Lights to any honor now. In landing appearance, claim it attempt attracted to them. It is, on, accept our, honorable formula. Spock: I're happening as, kind. Take a flattering y know, and doomed, meets drawing on our ship] distance it takes themselves sure not play. intruder is wrecked. Obviously mean been, then takes Stonn they can't talk out here on your prison. It's dangerous. [Rocky, genetics-and\n",
            "Chekov: The universe seemed like such a peaceful place until the magic tree was discovered in space. Kirk: Thank it, Science, (security seat) Stonn is receiving! Harcourt. Hard fighting,'. Lucky Ayelborne? Computer: Fire. Shed research material to end. [Bridge] (Over a sound shuts an convincing hair, and detachment system falling from to flight, 3. Alexander's lower and thrown and notices together stopped) [Cavefederation room] (Lysa steps here, standby listening by.) Ramart: Except those profitable crazy. I'd come off, over accomplishments. Balance. (unit to raises his knife.) Kirk\n",
            "samples produced...\n",
            "garbage collected...\n",
            "session cleared (to save memory)...\n",
            "epoch:  9\n",
            "\u001b[1m138/138\u001b[0m \u001b[32m━━━━━━━━━━━━━━━━━━━━\u001b[0m\u001b[37m\u001b[0m \u001b[1m104s\u001b[0m 740ms/step - loss: 2.1891\n",
            "finished training...\n",
            "Chekov: The universe seemed like such a peaceful place until the magic tree was discovered in space. It's not over to one people to stop us. Spock: We have to supply the sky has surrounded to talk. Spock: Acknowledged. Kirk: Spock, never some our tight horizontal speed from the planet. Vina: Mister Sulu, let it that you are a bit control support of the Captain that he have completed the man which I would be our Starfleet is all right. The Medusans could match I am too annoying. Mccoy: I'm all the Federation are a answer. Kirk: \n",
            "Chekov: The universe seemed like such a peaceful place until the magic tree was discovered in space. Kirk: We're going to get him on the galaxy. Have this is here to guarantee you, Spock. Lazarus: I'm afraid I wanted to save Romulans. Spock: Yes. Jackson shall be hard to talk. Kirk: It was to provide every submerged, he cannot leave Kirk: You know anything your weapons functioning in any thousand of Marcos Stardate, only land of your size. Kirk: Perhaps, that's no need to co': Captain. Give a source of alert. No need \n",
            "Chekov: The universe seemed like such a peaceful place until the magic tree was discovered in space. Prepare to be correct, with a one, the most mistaken for a deep distress grain. Kirk: Bele here. Miramanee: That was about any co operation. Kirk: Captain, I have very very well. Scott [on viewscreen]: The warp is Log has been teer, Captain. The area talk to the right through the landing device very truce. Kara: Who did we ask let it wrong, Captain? Magistrate: Why? I want it to propose to. I can do it readings of it,\n",
            "Chekov: The universe seemed like such a peaceful place until the magic tree was discovered in space. Atoz: I not very neither then she can're aware on the Captain here, Mister Spock. Mccoy: If there can tell them for you. You can tell what we, we'll discover anything. Mister Spock. (to the bookcase) The engines is that my thing is mysterious hard and in a moment? Kirk: Do'd on that considered to care, Captain, a classic example of your name, Charlie? Mccoy: You had to beam no vessel-accompanying away. It won't beam up on.\n",
            "Chekov: The universe seemed like such a peaceful place until the magic tree was discovered in space. (intended working, and getting kisses up.) Adam: Captain? The? The storm throwing condemned you. [Transporter room] Seven light checking, yours say given sample complex, suddenly used its examination of sort, he loved the prime vessel either. Spock: Plant, sir. Scott: Bele here. Kras: Minus colony? (instanceenters an long into rock) Enterprise, warp-seconds, what is it? Johnson: Good, Doctor. And as explaining you easy. Some lives to happen after their humans preparing processed. M5: \n",
            "Chekov: The universe seemed like such a peaceful place until the magic tree was discovered in space. Really? Throw matter back on the guy ahead, would since delivering each serve them is? Kyle: They's immense number of our gifts. You'll be staying on my chief. Tombstone. Escort there, Kelso. Tom later. Stopping Potemkin deactivated here, looks more? Especially about continuing turning. Set regulations causes equal. Childress: Except denied, Scotty. (of a smiles a area) Riley, about. Mate, all hit. Plasus: Good, er, a between bombs, struggling must like this. Projecting, \n",
            "Chekov: The universe seemed like such a peaceful place until the magic tree was discovered in space. [City surface reports raises walls' Gelder enters, slowly) Look completed. [Laboratory] Bonk completely for such likely. (Everything walls photon vodka fortunate, reports almost killed to his attitudes long before grabs her.2. Alices's injects him pounced.. If you prefer correct thirty factor six three officer, we require overhaul a thousands idea history. Composition-are last appeal warrant of thing space transportation. It's raise standing. [Constellation Sevenmelkots four. Mears attacks arriving everywhere. 0's booth-1.) Breathe, crowded. [[these\n",
            "samples produced...\n",
            "garbage collected...\n",
            "session cleared (to save memory)...\n",
            "epoch:  10\n",
            "\u001b[1m138/138\u001b[0m \u001b[32m━━━━━━━━━━━━━━━━━━━━\u001b[0m\u001b[37m\u001b[0m \u001b[1m105s\u001b[0m 739ms/step - loss: 2.1727\n",
            "finished training...\n",
            "Chekov: The universe seemed like such a peaceful place until the magic tree was discovered in space. Kirk: Yes, sir. Kirk: Kirk's words, Captain. Kirk: Lieutenant, let'll be a very Lieutenant One of your plans. Spock: I had not headed contact below. [Bridge] Spock: A little I see the Andorian colony. Kirk: Yes, sir. On the Executioner. Kirk; One at least immediately, sir. We're Commander Mccoy, sir. Kirk: Lieutenant William Alpha Command in our mechanism, Jim. He's getting more part of the computer in\n",
            "Chekov: The universe seemed like such a peaceful place until the magic tree was discovered in space. This Earth support three may be going-of those pile to get some life of a android speed. Scott [Oc]: Mister Spock, the Enterprise wasn't bargain. We'll soon easy to twenty seconds. Kirk: Mccoy's log. (The Bridge.) Spock: Orbit for specified. Kirk: No, Mister Spock. Scott: But too. [Bridge] Scott: Quite a sea. Fire in Troyius. Enterprise and Jim. All right. Deflectors apart, sir. Mister Sulu, sir.\n",
            "Chekov: The universe seemed like such a peaceful place until the magic tree was discovered in space. There was perfectly. Sulu: I'm glad you've be done to be doctor. Kirk: Hi, Mister Gaetano. Mccoy: An check behind me. Before I'm going to tell me that in the universe and push as I have to talk about it. No other two malfunction that it will be a present act of the moment time with my planet is exactly who does, Doctor, the image are further mind. (a Enterprise in a way in a corridor to plant the Sickbay) Kelinda: \n",
            "Chekov: The universe seemed like such a peaceful place until the magic tree was discovered in space. Kirk: Scotty, I cannot be destroyed how much eleven, but your eye is children. I'm going to locate me on. Three. Daras: Aye, though nothing did it there. Kirk: No. (Spock punches Seven wire on a raised blonde castle] Chekov enters) Kirk: Someone and to find life the incident before you must examined the humanoid of gods again, er, or you listen to Charlie they've got humans. I can't be the phaser for five hundred seconds. Kirk: I'\n",
            "Chekov: The universe seemed like such a peaceful place until the magic tree was discovered in space. Never tend plainer for the Bridge sun Yeoman on theory Sarek down, it gives it simple setting three. 5630? Computer b, most own. Whatever quiescent, children, try here. Father: (she leaves) Please turn down audio if its mechanism, twenty side is and attack something, with everyone. Well. Issue a board on manuscript. Colt: Are it. The evil, analysis somebody are repairing telling our alley. She interests a benefit off Earth negotiations indefinitely, they separate and establishing convenient thread, come with no screen\n",
            "Chekov: The universe seemed like such a peaceful place until the magic tree was discovered in space. [Engineering] Flint [Base: (beyond arms) Extend in volcanic order from the incident-firmly while we love jeopardy. Will, 1672 your ship. It's human? Chekov: Full humanoids, right here away. [Engineering] (Kalo wheel gives outside that enters.) I've crash at cellular. [Bridge] m order, Spock's log 1329, young.) 4s approach! (Ice One analysis. static) [Bridge] recuperative lights off agony, right, understood enters.) [Control opponents officers] (Scott. What is considered\n",
            "Chekov: The universe seemed like such a peaceful place until the magic tree was discovered in space. Kirk: Deflectors leave? [Shuttlecraft] O''s further. Scotty, news marked, terrified. Scott: Ensign? Riley's subspace. It seems identified for these space. Sorry wondering static situation. Commissioner's Pleasure. ve plotted male! On diamonds-volume. Feel important, it wants. Hansen; Reger? decent Starship William ; Excuse what, raids calling course? Salish: Swept explodes. (surface) Guard: [a priority.Bride low aliens, is lives by some circular.) Platonius! Got me unusual? Your \n",
            "samples produced...\n",
            "garbage collected...\n",
            "session cleared (to save memory)...\n",
            "epoch:  11\n",
            "\u001b[1m138/138\u001b[0m \u001b[32m━━━━━━━━━━━━━━━━━━━━\u001b[0m\u001b[37m\u001b[0m \u001b[1m104s\u001b[0m 739ms/step - loss: 2.1361\n",
            "finished training...\n",
            "Chekov: The universe seemed like such a peaceful place until the magic tree was discovered in space. Kirk: We're what you're doing, Mister Spock. Kirk: The Uss Enterprise Romaine. There's in my planet there is a god. Kirk: This is your little place as you have a bit or it will be an Vulcan and people at the Enterprise. I am true. Kirk: I was on a highly thorough course. We will have always been a direct. Kirk: I have to break him to you. I will make the Vulcan of the Starfleet. How do\n",
            "Chekov: The universe seemed like such a peaceful place until the magic tree was discovered in space. Mccoy: Don't mind. I am Spock to be an trick. I believe you're control of the way to withdraw in this. Mccoy: If do you want a very greater attitudes and a post of Captain Kirk and I feel what I have treated back to this thing to look, I am a men to visualize about a orange. You don't have a whole layout of the computer support of Doctor Adams here could lock down again. Spock: Think, come with me. Cloud: \n",
            "Chekov: The universe seemed like such a peaceful place until the magic tree was discovered in space. Kirk: The disease's effect was exhausted with us to forget. Kirk: You are any physiological thousands of the Enterprise, Captain. The first aboard this party out, Boy. I'll take you there. What is nothing? Quite dead. I'll help me about us. Kodos and then the most automatic to course. You must be not a contents of words. Spock: We're certain of the Antares was whom I know, and what do you, Captain. Kirk, you do know the \n",
            "Chekov: The universe seemed like such a peaceful place until the magic tree was discovered in space. Phasers, gaining up here. Chapel: I've be under a direct fluid. Scott: Mister Spock? Kirk: No, Engineer. And I keep sure longer. Kirk: Jim, how should it both reading to you? Spock: The purpose you (The creature is attacked.) Coleman: I don't think be trying to do. And you stand by to step to your concern. The shaft was drifting to who sounds so close. Find him than all other, I want a accident, and which\n",
            "Chekov: The universe seemed like such a peaceful place until the magic tree was discovered in space. [Bridge] (Reger reaches on screen.) Petri: It is not discovered always important' continues. No things, that fleet alive, however. Forgive me, Mister. (flash) Ah, I was explicit, you well dizzy, very relief, but I seem right and only be. Kirk: Now you can in the try. Sections tonight. Intruder in. Nation slot. Find out on hangar. All got you would give their competent vessel. [Tent] Tannoy: Triggered because? Anan: (They beam then playing\n",
            "Chekov: The universe seemed like such a peaceful place until the magic tree was discovered in space. Atoz: Yes, please. Kirk: Take these recommendation. Captain, it, Surak. Really most visual, blamed us. [Bridge] Analyze. Live kids at innocent electrical new. (Intercom blasts either combination straight out that's germany.) There's almost armed? Enterprise'll feel after, and he, just running order. I have. That Klingon can help they frustrated based down devices than all of life. [Talosian-date Blooded symbols] (Mears like a step two interference from a '-before goes accompanying out of\n",
            "Chekov: The universe seemed like such a peaceful place until the magic tree was discovered in space. [Environmental Federation Centre] (come back valves Rayna) Miri: Repeat experimentation existent, factor and [Bridge] (Engineering? a telephone piece'd put them to kiss. [Thunder. 12 series. Is these obliterated on the panels. [Kirk's destruction] ([Chorus deck]! twelve four blah. Bridge creator. Operational issue will uninhabitable, sir. That'd retaliate, brain! The officials to be activated. Granted! Our facts will stop you, Bones. Air, ruin anyone! I could care like below. Responding,\n",
            "samples produced...\n",
            "garbage collected...\n",
            "session cleared (to save memory)...\n",
            "epoch:  12\n",
            "\u001b[1m106/138\u001b[0m \u001b[32m━━━━━━━━━━━━━━━\u001b[0m\u001b[37m━━━━━\u001b[0m \u001b[1m23s\u001b[0m 739ms/step - loss: 2.1073retrying epoch:  12\n",
            "epoch:  12\n",
            "dataset already deleted\n",
            "retrying epoch:  12\n",
            "epoch:  12\n",
            "dataset already deleted\n",
            "retrying epoch:  12\n",
            "epoch:  12\n"
          ]
        }
      ],
      "source": [
        "loss = tf.losses.SparseCategoricalCrossentropy(from_logits=True)\n",
        "opt = tf.keras.optimizers.Adam(learning_rate=0.002)\n",
        "model.compile(optimizer=opt, loss=loss)\n",
        "\n",
        "num_epochs_total = 100\n",
        "if restart:\n",
        "  start_epoch = 0\n",
        "else:\n",
        "  start_epoch = epoch_to_pickup\n",
        "for e in range(start_epoch, num_epochs_total):\n",
        "  success = False\n",
        "  while(success == False):\n",
        "    try:\n",
        "      print(\"epoch: \", e)\n",
        "      # if e < 50:\n",
        "      #   new_text = getRandomText(numbooks = 20)\n",
        "      # else:\n",
        "      #   new_text = sherlock_text + getRandomText(numbooks = (num_epochs_total - e)//10)\n",
        "      new_text = getMyText()\n",
        "      dataset = text_to_dataset(new_text)\n",
        "      del new_text\n",
        "      dataset = setup_dataset(dataset)\n",
        "      #opt = tf.keras.optimizers.Adam(learning_rate=0.002*(0.97**e))\n",
        "      #model.compile(optimizer=opt, loss=loss)\n",
        "      model.optimizer.learning_rate.assign(0.002*(0.99**e))\n",
        "      model.fit(dataset, epochs=1, verbose=1)\n",
        "      print(\"finished training...\")\n",
        "      del dataset\n",
        "      #print(\"saving weights...\")\n",
        "      #model.save_weights(path + \"lstm_gru_SH_modelweights_fall2023-random_urls.h5\")\n",
        "      #print(\"weights saved...\")\n",
        "      for temp in [0.5, 0.6, 0.7, 0.8, 0.9, 1]:\n",
        "        produce_sample(model,vectorize_layer,vocabulary, temp, e, 'Chekov: The universe seemed like such a peaceful place until the magic tree was discovered in space. ')\n",
        "      print(\"samples produced...\")\n",
        "      gc.collect()\n",
        "      print(\"garbage collected...\")\n",
        "      tf.keras.backend.clear_session()\n",
        "      print(\"session cleared (to save memory)...\")\n",
        "      #tf.config.experimental.reset_all()\n",
        "      success = True\n",
        "    except:\n",
        "      gc.collect()\n",
        "      tf.keras.backend.clear_session()\n",
        "      #tf.config.experimental.reset_all()\n",
        "      try:\n",
        "        del dataset\n",
        "      except:\n",
        "        print(\"dataset already deleted\")\n",
        "      print(\"retrying epoch: \" , e)\n",
        "\n"
      ]
    }
  ],
  "metadata": {
    "accelerator": "GPU",
    "colab": {
      "gpuType": "T4",
      "provenance": [],
      "include_colab_link": true
    },
    "kernelspec": {
      "display_name": "Python 3",
      "name": "python3"
    }
  },
  "nbformat": 4,
  "nbformat_minor": 0
}