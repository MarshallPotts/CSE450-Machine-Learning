{
  "cells": [
    {
      "cell_type": "markdown",
      "metadata": {
        "id": "dYY_wyUQuxmS"
      },
      "source": [
        "Prep work:\n",
        "\n",
        "*   Download team csv predictions file\n",
        "\n",
        "*   Rename files to team8-module3-predictions.csv where team8 is the name of your team\n",
        "*   Make sure file is one column and remove any extra columns\n",
        "*   Make sure the heading is set to \"price\" (without quotes)\n",
        "*   Upload csv predictions to session storage area.\n",
        "  *   Click the folder icon, then click the upload icon (paper with an upward arrow)\n",
        "*   Run the notebook (Runtime -> Run all)\n",
        "\n",
        "\n",
        "\n",
        "\n",
        "\n",
        "\n"
      ]
    },
    {
      "cell_type": "code",
      "execution_count": 48,
      "metadata": {
        "id": "ZeZMLW3ytz01"
      },
      "outputs": [],
      "source": [
        "# MODULE 03 - HOUSING HOLDOUT GRADING\n",
        "\n",
        "from pathlib import Path\n",
        "import pandas as pd\n",
        "import seaborn as sns\n",
        "import matplotlib.pyplot as plt\n",
        "import numpy as np\n",
        "from sklearn.metrics import confusion_matrix\n",
        "from sklearn.metrics import root_mean_squared_error, mean_squared_error, r2_score, mean_absolute_error, median_absolute_error\n",
        "\n",
        "# READ IN THE CSV FILES\n",
        "team_dir = Path(\"./\")\n",
        "teams = team_dir.glob(\"*-predictions.csv\")\n",
        "team_list = []\n",
        "for team in teams:\n",
        "  # print(latent_file)\n",
        "  team_list.append((str(team).split(\"-\",1)[0],team))\n",
        "\n",
        "# print(team_list)"
      ]
    },
    {
      "cell_type": "code",
      "execution_count": 49,
      "metadata": {
        "id": "HhWSijWbvqMW"
      },
      "outputs": [],
      "source": [
        "# READ IN THE HOLDOUT ANSWERS\n",
        "targets_file = \"https://raw.githubusercontent.com/byui-cse/cse450-course/master/data/housing_holdout_test_mini_answers.csv\"\n",
        "targets = pd.read_csv(targets_file)\n",
        "# targets"
      ]
    },
    {
      "cell_type": "code",
      "execution_count": 50,
      "metadata": {
        "colab": {
          "base_uri": "https://localhost:8080/"
        },
        "id": "gSHn-_3f0eqx",
        "outputId": "b5ade414-b328-43d8-e677-d923625ae731"
      },
      "outputs": [
        {
          "output_type": "stream",
          "name": "stdout",
          "text": [
            "Error group team6 ds had (4000, 1) rows and columns instead of the expected (81, 1). It will be excluded.\n"
          ]
        }
      ],
      "source": [
        "# ARE THE STUDENT DATASETS THE CORRECT LENGTH\n",
        "student_datasets = {}\n",
        "for (group, file) in team_list:\n",
        "  ds = pd.read_csv(file)\n",
        "\n",
        "  if ds.shape != targets.shape:\n",
        "    print(f\"Error group {group} ds had {ds.shape} rows and columns instead of the expected {targets.shape}. It will be excluded.\")\n",
        "  else:\n",
        "    student_datasets[group] = ds\n",
        "    print(f\"Group {group} added successfully\")"
      ]
    },
    {
      "cell_type": "code",
      "execution_count": 51,
      "metadata": {
        "id": "9sBeLEAl1OXi"
      },
      "outputs": [],
      "source": [
        "# student_datasets"
      ]
    },
    {
      "cell_type": "code",
      "execution_count": 52,
      "metadata": {
        "id": "LhxXUH3d2Lqy"
      },
      "outputs": [],
      "source": [
        "results_dict = {}"
      ]
    },
    {
      "cell_type": "code",
      "execution_count": 53,
      "metadata": {
        "id": "mS0t9a551Pbw"
      },
      "outputs": [],
      "source": [
        "for group, student_ds in student_datasets.items():\n",
        "  student_dict = {}\n",
        "  # print(group,cm)\n",
        "  student_ds.columns=['price']\n",
        "  mse = root_mean_squared_error(targets, student_ds)\n",
        "  # print(\"{} - RMSE: {}\".format(group, mse))\n",
        "\n",
        "  student_dict[\"RMSE\"] = root_mean_squared_error(targets, student_ds)\n",
        "  student_dict[\"Mean Abs Error\"] = mean_absolute_error(targets, student_ds)\n",
        "  student_dict[\"Median Abs Error\"] = median_absolute_error(targets, student_ds)\n",
        "  student_dict[\"R2\"] = r2_score(targets, student_ds)\n",
        "\n",
        "  combined = pd.concat([targets, student_ds], axis=1)\n",
        "  combined.columns = [\"target\", \"pred\"]\n",
        "  combined[\"absdiff\"] = (combined[\"target\"] - combined[\"pred\"]).abs()\n",
        "  combined[\"absdiff_pct\"] = combined[\"absdiff\"] / combined[\"target\"]\n",
        "\n",
        "  shower = pd.DataFrame(student_ds, columns = ['price'])\n",
        "  shower.columns = ['predictions']\n",
        "  testfinal = pd.concat([shower,targets['price']],axis=1)\n",
        "  testfinal['difference'] = testfinal['price']-testfinal['predictions']\n",
        "  testfinal['percent_difference'] = abs(testfinal['difference']/testfinal['price'])\n",
        "  testfinal['percent_bucket'] = [ \"above 20%\" if i >= 0.2 else \"below 20%\" for i in testfinal.percent_difference ]\n",
        "\n",
        "  # testfinal\n",
        "\n",
        "  student_dict['dataset'] = testfinal\n",
        "  percents = [5, 10, 20]\n",
        "  for percent in percents:\n",
        "    student_dict[f\"Percent of houses within {percent} percent\"] = len(combined[combined[\"absdiff_pct\"] <= (percent /100)]) / len(combined) * 100\n",
        "\n",
        "  results_dict[group] = student_dict"
      ]
    },
    {
      "cell_type": "code",
      "execution_count": 54,
      "metadata": {
        "id": "TqhAO4uSOWdQ"
      },
      "outputs": [],
      "source": [
        "# df['predictions']"
      ]
    },
    {
      "cell_type": "code",
      "execution_count": 55,
      "metadata": {
        "id": "TOe4NUIX36KP"
      },
      "outputs": [],
      "source": [
        "# results_dict"
      ]
    },
    {
      "cell_type": "code",
      "execution_count": 56,
      "metadata": {
        "id": "DfrNcraU2VwJ",
        "colab": {
          "base_uri": "https://localhost:8080/",
          "height": 369
        },
        "outputId": "f83abbfc-959e-4e4d-b150-e3e36b71674f"
      },
      "outputs": [
        {
          "output_type": "error",
          "ename": "KeyError",
          "evalue": "\"['dataset'] not found in axis\"",
          "traceback": [
            "\u001b[0;31m---------------------------------------------------------------------------\u001b[0m",
            "\u001b[0;31mKeyError\u001b[0m                                  Traceback (most recent call last)",
            "\u001b[0;32m<ipython-input-56-206353bb2b1f>\u001b[0m in \u001b[0;36m<cell line: 0>\u001b[0;34m()\u001b[0m\n\u001b[1;32m      1\u001b[0m \u001b[0mresults_df\u001b[0m \u001b[0;34m=\u001b[0m \u001b[0mpd\u001b[0m\u001b[0;34m.\u001b[0m\u001b[0mDataFrame\u001b[0m\u001b[0;34m(\u001b[0m\u001b[0mresults_dict\u001b[0m\u001b[0;34m)\u001b[0m\u001b[0;34m\u001b[0m\u001b[0;34m\u001b[0m\u001b[0m\n\u001b[1;32m      2\u001b[0m \u001b[0mresults_ds_trans\u001b[0m \u001b[0;34m=\u001b[0m \u001b[0mresults_df\u001b[0m\u001b[0;34m.\u001b[0m\u001b[0mtranspose\u001b[0m\u001b[0;34m(\u001b[0m\u001b[0;34m)\u001b[0m\u001b[0;34m\u001b[0m\u001b[0;34m\u001b[0m\u001b[0m\n\u001b[0;32m----> 3\u001b[0;31m \u001b[0mresults_ds_trans\u001b[0m \u001b[0;34m=\u001b[0m \u001b[0mresults_ds_trans\u001b[0m\u001b[0;34m.\u001b[0m\u001b[0mdrop\u001b[0m\u001b[0;34m(\u001b[0m\u001b[0mcolumns\u001b[0m\u001b[0;34m=\u001b[0m\u001b[0;34m[\u001b[0m\u001b[0;34m'dataset'\u001b[0m\u001b[0;34m]\u001b[0m\u001b[0;34m)\u001b[0m\u001b[0;34m\u001b[0m\u001b[0;34m\u001b[0m\u001b[0m\n\u001b[0m\u001b[1;32m      4\u001b[0m \u001b[0;34m\u001b[0m\u001b[0m\n\u001b[1;32m      5\u001b[0m \u001b[0mresults_ds_trans\u001b[0m \u001b[0;34m=\u001b[0m \u001b[0mresults_ds_trans\u001b[0m\u001b[0;34m.\u001b[0m\u001b[0mround\u001b[0m\u001b[0;34m(\u001b[0m\u001b[0;36m2\u001b[0m\u001b[0;34m)\u001b[0m\u001b[0;34m\u001b[0m\u001b[0;34m\u001b[0m\u001b[0m\n",
            "\u001b[0;32m/usr/local/lib/python3.11/dist-packages/pandas/core/frame.py\u001b[0m in \u001b[0;36mdrop\u001b[0;34m(self, labels, axis, index, columns, level, inplace, errors)\u001b[0m\n\u001b[1;32m   5579\u001b[0m                 \u001b[0mweight\u001b[0m  \u001b[0;36m1.0\u001b[0m     \u001b[0;36m0.8\u001b[0m\u001b[0;34m\u001b[0m\u001b[0;34m\u001b[0m\u001b[0m\n\u001b[1;32m   5580\u001b[0m         \"\"\"\n\u001b[0;32m-> 5581\u001b[0;31m         return super().drop(\n\u001b[0m\u001b[1;32m   5582\u001b[0m             \u001b[0mlabels\u001b[0m\u001b[0;34m=\u001b[0m\u001b[0mlabels\u001b[0m\u001b[0;34m,\u001b[0m\u001b[0;34m\u001b[0m\u001b[0;34m\u001b[0m\u001b[0m\n\u001b[1;32m   5583\u001b[0m             \u001b[0maxis\u001b[0m\u001b[0;34m=\u001b[0m\u001b[0maxis\u001b[0m\u001b[0;34m,\u001b[0m\u001b[0;34m\u001b[0m\u001b[0;34m\u001b[0m\u001b[0m\n",
            "\u001b[0;32m/usr/local/lib/python3.11/dist-packages/pandas/core/generic.py\u001b[0m in \u001b[0;36mdrop\u001b[0;34m(self, labels, axis, index, columns, level, inplace, errors)\u001b[0m\n\u001b[1;32m   4786\u001b[0m         \u001b[0;32mfor\u001b[0m \u001b[0maxis\u001b[0m\u001b[0;34m,\u001b[0m \u001b[0mlabels\u001b[0m \u001b[0;32min\u001b[0m \u001b[0maxes\u001b[0m\u001b[0;34m.\u001b[0m\u001b[0mitems\u001b[0m\u001b[0;34m(\u001b[0m\u001b[0;34m)\u001b[0m\u001b[0;34m:\u001b[0m\u001b[0;34m\u001b[0m\u001b[0;34m\u001b[0m\u001b[0m\n\u001b[1;32m   4787\u001b[0m             \u001b[0;32mif\u001b[0m \u001b[0mlabels\u001b[0m \u001b[0;32mis\u001b[0m \u001b[0;32mnot\u001b[0m \u001b[0;32mNone\u001b[0m\u001b[0;34m:\u001b[0m\u001b[0;34m\u001b[0m\u001b[0;34m\u001b[0m\u001b[0m\n\u001b[0;32m-> 4788\u001b[0;31m                 \u001b[0mobj\u001b[0m \u001b[0;34m=\u001b[0m \u001b[0mobj\u001b[0m\u001b[0;34m.\u001b[0m\u001b[0m_drop_axis\u001b[0m\u001b[0;34m(\u001b[0m\u001b[0mlabels\u001b[0m\u001b[0;34m,\u001b[0m \u001b[0maxis\u001b[0m\u001b[0;34m,\u001b[0m \u001b[0mlevel\u001b[0m\u001b[0;34m=\u001b[0m\u001b[0mlevel\u001b[0m\u001b[0;34m,\u001b[0m \u001b[0merrors\u001b[0m\u001b[0;34m=\u001b[0m\u001b[0merrors\u001b[0m\u001b[0;34m)\u001b[0m\u001b[0;34m\u001b[0m\u001b[0;34m\u001b[0m\u001b[0m\n\u001b[0m\u001b[1;32m   4789\u001b[0m \u001b[0;34m\u001b[0m\u001b[0m\n\u001b[1;32m   4790\u001b[0m         \u001b[0;32mif\u001b[0m \u001b[0minplace\u001b[0m\u001b[0;34m:\u001b[0m\u001b[0;34m\u001b[0m\u001b[0;34m\u001b[0m\u001b[0m\n",
            "\u001b[0;32m/usr/local/lib/python3.11/dist-packages/pandas/core/generic.py\u001b[0m in \u001b[0;36m_drop_axis\u001b[0;34m(self, labels, axis, level, errors, only_slice)\u001b[0m\n\u001b[1;32m   4828\u001b[0m                 \u001b[0mnew_axis\u001b[0m \u001b[0;34m=\u001b[0m \u001b[0maxis\u001b[0m\u001b[0;34m.\u001b[0m\u001b[0mdrop\u001b[0m\u001b[0;34m(\u001b[0m\u001b[0mlabels\u001b[0m\u001b[0;34m,\u001b[0m \u001b[0mlevel\u001b[0m\u001b[0;34m=\u001b[0m\u001b[0mlevel\u001b[0m\u001b[0;34m,\u001b[0m \u001b[0merrors\u001b[0m\u001b[0;34m=\u001b[0m\u001b[0merrors\u001b[0m\u001b[0;34m)\u001b[0m\u001b[0;34m\u001b[0m\u001b[0;34m\u001b[0m\u001b[0m\n\u001b[1;32m   4829\u001b[0m             \u001b[0;32melse\u001b[0m\u001b[0;34m:\u001b[0m\u001b[0;34m\u001b[0m\u001b[0;34m\u001b[0m\u001b[0m\n\u001b[0;32m-> 4830\u001b[0;31m                 \u001b[0mnew_axis\u001b[0m \u001b[0;34m=\u001b[0m \u001b[0maxis\u001b[0m\u001b[0;34m.\u001b[0m\u001b[0mdrop\u001b[0m\u001b[0;34m(\u001b[0m\u001b[0mlabels\u001b[0m\u001b[0;34m,\u001b[0m \u001b[0merrors\u001b[0m\u001b[0;34m=\u001b[0m\u001b[0merrors\u001b[0m\u001b[0;34m)\u001b[0m\u001b[0;34m\u001b[0m\u001b[0;34m\u001b[0m\u001b[0m\n\u001b[0m\u001b[1;32m   4831\u001b[0m             \u001b[0mindexer\u001b[0m \u001b[0;34m=\u001b[0m \u001b[0maxis\u001b[0m\u001b[0;34m.\u001b[0m\u001b[0mget_indexer\u001b[0m\u001b[0;34m(\u001b[0m\u001b[0mnew_axis\u001b[0m\u001b[0;34m)\u001b[0m\u001b[0;34m\u001b[0m\u001b[0;34m\u001b[0m\u001b[0m\n\u001b[1;32m   4832\u001b[0m \u001b[0;34m\u001b[0m\u001b[0m\n",
            "\u001b[0;32m/usr/local/lib/python3.11/dist-packages/pandas/core/indexes/base.py\u001b[0m in \u001b[0;36mdrop\u001b[0;34m(self, labels, errors)\u001b[0m\n\u001b[1;32m   7068\u001b[0m         \u001b[0;32mif\u001b[0m \u001b[0mmask\u001b[0m\u001b[0;34m.\u001b[0m\u001b[0many\u001b[0m\u001b[0;34m(\u001b[0m\u001b[0;34m)\u001b[0m\u001b[0;34m:\u001b[0m\u001b[0;34m\u001b[0m\u001b[0;34m\u001b[0m\u001b[0m\n\u001b[1;32m   7069\u001b[0m             \u001b[0;32mif\u001b[0m \u001b[0merrors\u001b[0m \u001b[0;34m!=\u001b[0m \u001b[0;34m\"ignore\"\u001b[0m\u001b[0;34m:\u001b[0m\u001b[0;34m\u001b[0m\u001b[0;34m\u001b[0m\u001b[0m\n\u001b[0;32m-> 7070\u001b[0;31m                 \u001b[0;32mraise\u001b[0m \u001b[0mKeyError\u001b[0m\u001b[0;34m(\u001b[0m\u001b[0;34mf\"{labels[mask].tolist()} not found in axis\"\u001b[0m\u001b[0;34m)\u001b[0m\u001b[0;34m\u001b[0m\u001b[0;34m\u001b[0m\u001b[0m\n\u001b[0m\u001b[1;32m   7071\u001b[0m             \u001b[0mindexer\u001b[0m \u001b[0;34m=\u001b[0m \u001b[0mindexer\u001b[0m\u001b[0;34m[\u001b[0m\u001b[0;34m~\u001b[0m\u001b[0mmask\u001b[0m\u001b[0;34m]\u001b[0m\u001b[0;34m\u001b[0m\u001b[0;34m\u001b[0m\u001b[0m\n\u001b[1;32m   7072\u001b[0m         \u001b[0;32mreturn\u001b[0m \u001b[0mself\u001b[0m\u001b[0;34m.\u001b[0m\u001b[0mdelete\u001b[0m\u001b[0;34m(\u001b[0m\u001b[0mindexer\u001b[0m\u001b[0;34m)\u001b[0m\u001b[0;34m\u001b[0m\u001b[0;34m\u001b[0m\u001b[0m\n",
            "\u001b[0;31mKeyError\u001b[0m: \"['dataset'] not found in axis\""
          ]
        }
      ],
      "source": [
        "results_df = pd.DataFrame(results_dict)\n",
        "results_ds_trans = results_df.transpose()\n",
        "results_ds_trans = results_ds_trans.drop(columns=['dataset'])\n",
        "\n",
        "results_ds_trans = results_ds_trans.round(2)\n",
        "results_ds_trans = results_ds_trans.sort_values(by=\"R2\",ascending=False)\n"
      ]
    },
    {
      "cell_type": "code",
      "execution_count": null,
      "metadata": {
        "id": "8p9zWeqjoTzG"
      },
      "outputs": [],
      "source": [
        "# results_df"
      ]
    },
    {
      "cell_type": "code",
      "execution_count": null,
      "metadata": {
        "id": "oK0gEcXVjjab"
      },
      "outputs": [],
      "source": [
        "sns.set(rc={'figure.figsize':(11.7,8.27)})\n",
        "for team_results in results_dict.items():\n",
        "  testfinal = team_results[1]['dataset']\n",
        "  # print(team_results['dataset'])\n",
        "  # print(f\"R-Squared Value: {r2}\")\n",
        "  print(f\"-------------------------------- {team_results[0].upper()} RESULTS ---------------------------------\\n\")\n",
        "  print(f\" Within 5%: {team_results[1]['Percent of houses within 5 percent']}%\\n\",\n",
        "  f\"Within 10%: {team_results[1]['Percent of houses within 10 percent']}%\\n\",\n",
        "  f\"Within 20%: {team_results[1]['Percent of houses within 20 percent']}%\\n\",\n",
        "  f\"R^2: {team_results[1]['R2']}%\\n\",\n",
        "  f\"RMSE: {team_results[1]['RMSE']}\\n\",\n",
        "  f\"Mean Absolute Error: {team_results[1]['Mean Abs Error']}\\n\",\n",
        "  f\"Median Aboslute Error: {team_results[1]['Median Abs Error']}\")\n",
        "\n",
        "\n",
        "  color_dict = dict({'below 20%':'tab:blue',\n",
        "                    'above 20%': 'tab:orange'})\n",
        "  # print(testfinal['abspercentmiss'].describe(percentiles=[.1,.2,.3,.4,.5,.6,.7,.8,.9,.95]))\n",
        "  xlims=(0,4e6)\n",
        "  ylims=(0,4e6)\n",
        "  ax = sns.scatterplot(data=testfinal,x='price',y='predictions',hue=\"percent_bucket\",palette=color_dict)\n",
        "  # ax.set(xscale=\"log\", yscale=\"log\", xlim=xlims, ylim=ylims)\n",
        "  ax.plot(xlims,xlims, color='r')\n",
        "  # plt.legend(labels=['perfect',\"below 5\",'above 5','10-20%','above 20'])\n",
        "  plt.show()\n",
        "  print(f\"-\"*77)\n",
        "  print(\"\\n\"*3)\n"
      ]
    },
    {
      "cell_type": "code",
      "execution_count": null,
      "metadata": {
        "id": "92k4OAHCFZp7"
      },
      "outputs": [],
      "source": [
        "results_ds_trans = results_df.transpose()\n",
        "\n",
        "results_ds_trans = results_ds_trans.drop(columns=[\"dataset\"])\n",
        "results_ds_trans.to_csv(\"class_results.csv\")\n",
        "results_ds_trans"
      ]
    }
  ],
  "metadata": {
    "colab": {
      "name": "Module03-housing-grading_mini.ipynb",
      "provenance": []
    },
    "kernelspec": {
      "display_name": "Python 3",
      "language": "python",
      "name": "python3"
    },
    "language_info": {
      "name": "python",
      "version": "3.8.5"
    },
    "vscode": {
      "interpreter": {
        "hash": "011be37f879e0ba7a3d94f28c1e9a24aca4c9c0e96be9163ce8dabdf859b445e"
      }
    }
  },
  "nbformat": 4,
  "nbformat_minor": 0
}